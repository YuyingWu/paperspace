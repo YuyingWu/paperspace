{
 "cells": [
  {
   "cell_type": "code",
   "execution_count": 1,
   "id": "71206f8b-068f-4ff0-984c-231f9a67f873",
   "metadata": {
    "execution": {
     "iopub.execute_input": "2023-09-07T07:02:23.281857Z",
     "iopub.status.busy": "2023-09-07T07:02:23.281194Z",
     "iopub.status.idle": "2023-09-07T07:02:26.842473Z",
     "shell.execute_reply": "2023-09-07T07:02:26.841347Z",
     "shell.execute_reply.started": "2023-09-07T07:02:23.281829Z"
    }
   },
   "outputs": [
    {
     "name": "stdout",
     "output_type": "stream",
     "text": [
      "/storage/stable-diffusion/stable-diffusion-webui/models\n",
      "mkdir: cannot create directory ‘/notebooks/stable-diffusion-webui/models/ControlNet’: File exists\n",
      "/storage/stable-diffusion/stable-diffusion-webui/models/ControlNet\n",
      "--2023-09-07 07:02:24--  https://huggingface.co/thibaud/controlnet-sd21/resolve/main/control_v11p_sd21_canny.safetensors\n",
      "Resolving huggingface.co (huggingface.co)... 18.164.124.27, 18.164.124.11, 18.164.124.99, ...\n",
      "Connecting to huggingface.co (huggingface.co)|18.164.124.27|:443... connected.\n",
      "HTTP request sent, awaiting response... 302 Found\n",
      "Location: https://cdn-lfs.huggingface.co/repos/ed/30/ed30855d27981fc0fee4b0ddb99e3c6558d7255aadddc636a02f3cd2b4edd014/7b2c5d972b6212bb9185e5860e66edd29eeeaeb98d43877688e20c156e196ce4?response-content-disposition=attachment%3B+filename*%3DUTF-8%27%27control_v11p_sd21_canny.safetensors%3B+filename%3D%22control_v11p_sd21_canny.safetensors%22%3B&Expires=1694329344&Policy=eyJTdGF0ZW1lbnQiOlt7IkNvbmRpdGlvbiI6eyJEYXRlTGVzc1RoYW4iOnsiQVdTOkVwb2NoVGltZSI6MTY5NDMyOTM0NH19LCJSZXNvdXJjZSI6Imh0dHBzOi8vY2RuLWxmcy5odWdnaW5nZmFjZS5jby9yZXBvcy9lZC8zMC9lZDMwODU1ZDI3OTgxZmMwZmVlNGIwZGRiOTllM2M2NTU4ZDcyNTVhYWRkZGM2MzZhMDJmM2NkMmI0ZWRkMDE0LzdiMmM1ZDk3MmI2MjEyYmI5MTg1ZTU4NjBlNjZlZGQyOWVlZWFlYjk4ZDQzODc3Njg4ZTIwYzE1NmUxOTZjZTQ%7EcmVzcG9uc2UtY29udGVudC1kaXNwb3NpdGlvbj0qIn1dfQ__&Signature=qV7pXZydEMqHr9me7KUPAnB9n-ml0cVnJ1fc5b-uKEdJk-LB16Si3nWZgI6T0byOUPBaQmScF4pXAfvgp02s%7EKJB687GT9G8VMxlJl8IQKWwBN4bBJNscKjBo-Ex7H4EKb3aCpbH8qMwRCBA6Hs5qKotnGtUyj4%7EnWDUPDRSpqLSvdK7MwnNR-1m0TVpaGYjdyvbNMkDkJX85YMOavyEStezXiHUwF-OrzyDzFbvsQ1EGDBt-%7EXyNw%7EeOOhRCWnSXimkiHjFhLhCRzX84CyJusPKDqb0ZyYY9F8CbDtf-KmeRXEFt1Hyz51vIMVUD3aRUexUWeeUDMHW3XY4ya%7EB5g__&Key-Pair-Id=KVTP0A1DKRTAX [following]\n",
      "--2023-09-07 07:02:24--  https://cdn-lfs.huggingface.co/repos/ed/30/ed30855d27981fc0fee4b0ddb99e3c6558d7255aadddc636a02f3cd2b4edd014/7b2c5d972b6212bb9185e5860e66edd29eeeaeb98d43877688e20c156e196ce4?response-content-disposition=attachment%3B+filename*%3DUTF-8%27%27control_v11p_sd21_canny.safetensors%3B+filename%3D%22control_v11p_sd21_canny.safetensors%22%3B&Expires=1694329344&Policy=eyJTdGF0ZW1lbnQiOlt7IkNvbmRpdGlvbiI6eyJEYXRlTGVzc1RoYW4iOnsiQVdTOkVwb2NoVGltZSI6MTY5NDMyOTM0NH19LCJSZXNvdXJjZSI6Imh0dHBzOi8vY2RuLWxmcy5odWdnaW5nZmFjZS5jby9yZXBvcy9lZC8zMC9lZDMwODU1ZDI3OTgxZmMwZmVlNGIwZGRiOTllM2M2NTU4ZDcyNTVhYWRkZGM2MzZhMDJmM2NkMmI0ZWRkMDE0LzdiMmM1ZDk3MmI2MjEyYmI5MTg1ZTU4NjBlNjZlZGQyOWVlZWFlYjk4ZDQzODc3Njg4ZTIwYzE1NmUxOTZjZTQ%7EcmVzcG9uc2UtY29udGVudC1kaXNwb3NpdGlvbj0qIn1dfQ__&Signature=qV7pXZydEMqHr9me7KUPAnB9n-ml0cVnJ1fc5b-uKEdJk-LB16Si3nWZgI6T0byOUPBaQmScF4pXAfvgp02s%7EKJB687GT9G8VMxlJl8IQKWwBN4bBJNscKjBo-Ex7H4EKb3aCpbH8qMwRCBA6Hs5qKotnGtUyj4%7EnWDUPDRSpqLSvdK7MwnNR-1m0TVpaGYjdyvbNMkDkJX85YMOavyEStezXiHUwF-OrzyDzFbvsQ1EGDBt-%7EXyNw%7EeOOhRCWnSXimkiHjFhLhCRzX84CyJusPKDqb0ZyYY9F8CbDtf-KmeRXEFt1Hyz51vIMVUD3aRUexUWeeUDMHW3XY4ya%7EB5g__&Key-Pair-Id=KVTP0A1DKRTAX\n",
      "Resolving cdn-lfs.huggingface.co (cdn-lfs.huggingface.co)... 18.164.116.15, 18.164.116.106, 18.164.116.111, ...\n",
      "Connecting to cdn-lfs.huggingface.co (cdn-lfs.huggingface.co)|18.164.116.15|:443... connected.\n",
      "HTTP request sent, awaiting response... 200 OK\n",
      "Length: 728494536 (695M) [binary/octet-stream]\n",
      "Saving to: ‘control_v11p_sd21_canny.safetensors’\n",
      "\n",
      "control_v11p_sd21_c 100%[===================>] 694.75M   359MB/s    in 1.9s    \n",
      "\n",
      "2023-09-07 07:02:26 (359 MB/s) - ‘control_v11p_sd21_canny.safetensors’ saved [728494536/728494536]\n",
      "\n"
     ]
    }
   ],
   "source": [
    "# Canny\n",
    "%cd /notebooks/stable-diffusion-webui/models/\n",
    "%mkdir /notebooks/stable-diffusion-webui/models/ControlNet\n",
    "%cd /notebooks/stable-diffusion-webui/models/ControlNet\n",
    "!wget https://huggingface.co/thibaud/controlnet-sd21/resolve/main/control_v11p_sd21_canny.safetensors"
   ]
  },
  {
   "cell_type": "code",
   "execution_count": 2,
   "id": "c18df9f5-60ff-4a61-9bc9-9a191a449461",
   "metadata": {
    "execution": {
     "iopub.execute_input": "2023-09-07T07:02:26.845243Z",
     "iopub.status.busy": "2023-09-07T07:02:26.844602Z",
     "iopub.status.idle": "2023-09-07T07:02:31.913513Z",
     "shell.execute_reply": "2023-09-07T07:02:31.912663Z",
     "shell.execute_reply.started": "2023-09-07T07:02:26.845207Z"
    }
   },
   "outputs": [
    {
     "name": "stdout",
     "output_type": "stream",
     "text": [
      "/storage/stable-diffusion/stable-diffusion-webui/models/ControlNet\n",
      "--2023-09-07 07:02:27--  https://huggingface.co/lllyasviel/ControlNet-v1-1/resolve/main/control_v11p_sd15_lineart.pth\n",
      "Resolving huggingface.co (huggingface.co)... 18.164.124.99, 18.164.124.11, 18.164.124.27, ...\n",
      "Connecting to huggingface.co (huggingface.co)|18.164.124.99|:443... connected.\n",
      "HTTP request sent, awaiting response... 302 Found\n",
      "Location: https://cdn-lfs.huggingface.co/repos/e7/4c/e74c9ddc88b5a293fa8aafeb615d6c61cb3aaa34dc7ce9e25100dfae2b09bf55/fb5fb912696830da948e5056b50adfa3fcc68ff760c43e4e7a8499853af43c61?response-content-disposition=attachment%3B+filename*%3DUTF-8%27%27control_v11p_sd15_lineart.pth%3B+filename%3D%22control_v11p_sd15_lineart.pth%22%3B&Expires=1694328690&Policy=eyJTdGF0ZW1lbnQiOlt7IkNvbmRpdGlvbiI6eyJEYXRlTGVzc1RoYW4iOnsiQVdTOkVwb2NoVGltZSI6MTY5NDMyODY5MH19LCJSZXNvdXJjZSI6Imh0dHBzOi8vY2RuLWxmcy5odWdnaW5nZmFjZS5jby9yZXBvcy9lNy80Yy9lNzRjOWRkYzg4YjVhMjkzZmE4YWFmZWI2MTVkNmM2MWNiM2FhYTM0ZGM3Y2U5ZTI1MTAwZGZhZTJiMDliZjU1L2ZiNWZiOTEyNjk2ODMwZGE5NDhlNTA1NmI1MGFkZmEzZmNjNjhmZjc2MGM0M2U0ZTdhODQ5OTg1M2FmNDNjNjE%7EcmVzcG9uc2UtY29udGVudC1kaXNwb3NpdGlvbj0qIn1dfQ__&Signature=A5AVxKKMSKj6mFjSoqTTULKwyJkKkwhMSF9FEHnZ1K67hclqkP9w2t5NdihPH8NfqlV8pzkFrxHiINT55sCHESddxlQsmK%7EvzAU1IdReo-0Z%7EpJGI%7EJypsJMQ870VWwC8GVyMfZrBhjnPQ0BIhdZN4eTxzCaADMVM6vtfN0q6yPcoU8%7Er-36t5Z3QDtzsJuHPdQW4zhXSUw4ObFj5I9WnVKDFzUM%7EeBzO8xMHbTOx0mAwCt8L-NSPr%7EKCQrdPszqKRDG-0vKVwUQdmbX41yHfa%7E4LtNB12CYbRh3%7EpZ7eGadxGOGhc77KVWXktSGAWJekkaIcqX7GHmXa2djMnizKA__&Key-Pair-Id=KVTP0A1DKRTAX [following]\n",
      "--2023-09-07 07:02:27--  https://cdn-lfs.huggingface.co/repos/e7/4c/e74c9ddc88b5a293fa8aafeb615d6c61cb3aaa34dc7ce9e25100dfae2b09bf55/fb5fb912696830da948e5056b50adfa3fcc68ff760c43e4e7a8499853af43c61?response-content-disposition=attachment%3B+filename*%3DUTF-8%27%27control_v11p_sd15_lineart.pth%3B+filename%3D%22control_v11p_sd15_lineart.pth%22%3B&Expires=1694328690&Policy=eyJTdGF0ZW1lbnQiOlt7IkNvbmRpdGlvbiI6eyJEYXRlTGVzc1RoYW4iOnsiQVdTOkVwb2NoVGltZSI6MTY5NDMyODY5MH19LCJSZXNvdXJjZSI6Imh0dHBzOi8vY2RuLWxmcy5odWdnaW5nZmFjZS5jby9yZXBvcy9lNy80Yy9lNzRjOWRkYzg4YjVhMjkzZmE4YWFmZWI2MTVkNmM2MWNiM2FhYTM0ZGM3Y2U5ZTI1MTAwZGZhZTJiMDliZjU1L2ZiNWZiOTEyNjk2ODMwZGE5NDhlNTA1NmI1MGFkZmEzZmNjNjhmZjc2MGM0M2U0ZTdhODQ5OTg1M2FmNDNjNjE%7EcmVzcG9uc2UtY29udGVudC1kaXNwb3NpdGlvbj0qIn1dfQ__&Signature=A5AVxKKMSKj6mFjSoqTTULKwyJkKkwhMSF9FEHnZ1K67hclqkP9w2t5NdihPH8NfqlV8pzkFrxHiINT55sCHESddxlQsmK%7EvzAU1IdReo-0Z%7EpJGI%7EJypsJMQ870VWwC8GVyMfZrBhjnPQ0BIhdZN4eTxzCaADMVM6vtfN0q6yPcoU8%7Er-36t5Z3QDtzsJuHPdQW4zhXSUw4ObFj5I9WnVKDFzUM%7EeBzO8xMHbTOx0mAwCt8L-NSPr%7EKCQrdPszqKRDG-0vKVwUQdmbX41yHfa%7E4LtNB12CYbRh3%7EpZ7eGadxGOGhc77KVWXktSGAWJekkaIcqX7GHmXa2djMnizKA__&Key-Pair-Id=KVTP0A1DKRTAX\n",
      "Resolving cdn-lfs.huggingface.co (cdn-lfs.huggingface.co)... 18.164.116.66, 18.164.116.106, 18.164.116.15, ...\n",
      "Connecting to cdn-lfs.huggingface.co (cdn-lfs.huggingface.co)|18.164.116.66|:443... connected.\n",
      "HTTP request sent, awaiting response... 200 OK\n",
      "Length: 1445235365 (1.3G) [binary/octet-stream]\n",
      "Saving to: ‘control_v11p_sd15_lineart.pth’\n",
      "\n",
      "control_v11p_sd15_l 100%[===================>]   1.35G   338MB/s    in 4.2s    \n",
      "\n",
      "2023-09-07 07:02:31 (329 MB/s) - ‘control_v11p_sd15_lineart.pth’ saved [1445235365/1445235365]\n",
      "\n"
     ]
    }
   ],
   "source": [
    "# Lineart\n",
    "%cd /notebooks/stable-diffusion-webui/models/ControlNet\n",
    "!wget https://huggingface.co/lllyasviel/ControlNet-v1-1/resolve/main/control_v11p_sd15_lineart.pth"
   ]
  },
  {
   "cell_type": "code",
   "execution_count": 3,
   "id": "005cd6ec-897d-4cd1-9e64-09da51a66bd1",
   "metadata": {
    "execution": {
     "iopub.execute_input": "2023-09-07T07:02:31.914928Z",
     "iopub.status.busy": "2023-09-07T07:02:31.914691Z",
     "iopub.status.idle": "2023-09-07T07:02:36.551352Z",
     "shell.execute_reply": "2023-09-07T07:02:36.550462Z",
     "shell.execute_reply.started": "2023-09-07T07:02:31.914902Z"
    }
   },
   "outputs": [
    {
     "name": "stdout",
     "output_type": "stream",
     "text": [
      "/storage/stable-diffusion/stable-diffusion-webui/models/ControlNet\n",
      "--2023-09-07 07:02:32--  https://huggingface.co/lllyasviel/ControlNet-v1-1/resolve/main/control_v11p_sd15_mlsd.pth\n",
      "Resolving huggingface.co (huggingface.co)... 18.164.124.27, 18.164.124.11, 18.164.124.47, ...\n",
      "Connecting to huggingface.co (huggingface.co)|18.164.124.27|:443... connected.\n",
      "HTTP request sent, awaiting response... 302 Found\n",
      "Location: https://cdn-lfs.huggingface.co/repos/e7/4c/e74c9ddc88b5a293fa8aafeb615d6c61cb3aaa34dc7ce9e25100dfae2b09bf55/22dab177f4c4566ac1c8f68dc2c429b023114e15a644e8c7c0e8f956afe92acf?response-content-disposition=attachment%3B+filename*%3DUTF-8%27%27control_v11p_sd15_mlsd.pth%3B+filename%3D%22control_v11p_sd15_mlsd.pth%22%3B&Expires=1694328378&Policy=eyJTdGF0ZW1lbnQiOlt7IkNvbmRpdGlvbiI6eyJEYXRlTGVzc1RoYW4iOnsiQVdTOkVwb2NoVGltZSI6MTY5NDMyODM3OH19LCJSZXNvdXJjZSI6Imh0dHBzOi8vY2RuLWxmcy5odWdnaW5nZmFjZS5jby9yZXBvcy9lNy80Yy9lNzRjOWRkYzg4YjVhMjkzZmE4YWFmZWI2MTVkNmM2MWNiM2FhYTM0ZGM3Y2U5ZTI1MTAwZGZhZTJiMDliZjU1LzIyZGFiMTc3ZjRjNDU2NmFjMWM4ZjY4ZGMyYzQyOWIwMjMxMTRlMTVhNjQ0ZThjN2MwZThmOTU2YWZlOTJhY2Y%7EcmVzcG9uc2UtY29udGVudC1kaXNwb3NpdGlvbj0qIn1dfQ__&Signature=FVSHvD7q74MzQ5lKEp8RnJAtKkglzSvr4NY7KqKIbZsiyFj-cwv6icyPXCYTAgl0eoc34Hu3X14buWmON2AAe09H2e1%7E9f8LhZgMVi1S-aFltGqVi6MFlXXhCyI39HRYcZh-ZVDRYJq817TiNb2MCW1clhOiGb4cCqHBT5lz4WmCkYzsm05RFUd6MS8y78DcYFEw94A4BSHMMzpqSZ00ZPWUlkKcZ2PL2Qa98JZPoTI8epojRNA4mHMbgWQVOmoafYVwkxB3PTW7caEOpTdBFzQ9gQ0G35DM4%7EZrf0MMc5UAJx5IiZySc8hOKXiibOkUiRyZjn07Nw22%7EtyPfKV8Bw__&Key-Pair-Id=KVTP0A1DKRTAX [following]\n",
      "--2023-09-07 07:02:32--  https://cdn-lfs.huggingface.co/repos/e7/4c/e74c9ddc88b5a293fa8aafeb615d6c61cb3aaa34dc7ce9e25100dfae2b09bf55/22dab177f4c4566ac1c8f68dc2c429b023114e15a644e8c7c0e8f956afe92acf?response-content-disposition=attachment%3B+filename*%3DUTF-8%27%27control_v11p_sd15_mlsd.pth%3B+filename%3D%22control_v11p_sd15_mlsd.pth%22%3B&Expires=1694328378&Policy=eyJTdGF0ZW1lbnQiOlt7IkNvbmRpdGlvbiI6eyJEYXRlTGVzc1RoYW4iOnsiQVdTOkVwb2NoVGltZSI6MTY5NDMyODM3OH19LCJSZXNvdXJjZSI6Imh0dHBzOi8vY2RuLWxmcy5odWdnaW5nZmFjZS5jby9yZXBvcy9lNy80Yy9lNzRjOWRkYzg4YjVhMjkzZmE4YWFmZWI2MTVkNmM2MWNiM2FhYTM0ZGM3Y2U5ZTI1MTAwZGZhZTJiMDliZjU1LzIyZGFiMTc3ZjRjNDU2NmFjMWM4ZjY4ZGMyYzQyOWIwMjMxMTRlMTVhNjQ0ZThjN2MwZThmOTU2YWZlOTJhY2Y%7EcmVzcG9uc2UtY29udGVudC1kaXNwb3NpdGlvbj0qIn1dfQ__&Signature=FVSHvD7q74MzQ5lKEp8RnJAtKkglzSvr4NY7KqKIbZsiyFj-cwv6icyPXCYTAgl0eoc34Hu3X14buWmON2AAe09H2e1%7E9f8LhZgMVi1S-aFltGqVi6MFlXXhCyI39HRYcZh-ZVDRYJq817TiNb2MCW1clhOiGb4cCqHBT5lz4WmCkYzsm05RFUd6MS8y78DcYFEw94A4BSHMMzpqSZ00ZPWUlkKcZ2PL2Qa98JZPoTI8epojRNA4mHMbgWQVOmoafYVwkxB3PTW7caEOpTdBFzQ9gQ0G35DM4%7EZrf0MMc5UAJx5IiZySc8hOKXiibOkUiRyZjn07Nw22%7EtyPfKV8Bw__&Key-Pair-Id=KVTP0A1DKRTAX\n",
      "Resolving cdn-lfs.huggingface.co (cdn-lfs.huggingface.co)... 18.164.116.15, 18.164.116.66, 18.164.116.111, ...\n",
      "Connecting to cdn-lfs.huggingface.co (cdn-lfs.huggingface.co)|18.164.116.15|:443... connected.\n",
      "HTTP request sent, awaiting response... 200 OK\n",
      "Length: 1445234339 (1.3G) [binary/octet-stream]\n",
      "Saving to: ‘control_v11p_sd15_mlsd.pth’\n",
      "\n",
      "control_v11p_sd15_m 100%[===================>]   1.35G   363MB/s    in 3.8s    \n",
      "\n",
      "2023-09-07 07:02:36 (362 MB/s) - ‘control_v11p_sd15_mlsd.pth’ saved [1445234339/1445234339]\n",
      "\n"
     ]
    }
   ],
   "source": [
    "# MLSD\n",
    "%cd /notebooks/stable-diffusion-webui/models/ControlNet\n",
    "!wget https://huggingface.co/lllyasviel/ControlNet-v1-1/resolve/main/control_v11p_sd15_mlsd.pth"
   ]
  },
  {
   "cell_type": "code",
   "execution_count": 4,
   "id": "73cfd26a-01e0-42eb-98b2-d5a43938eb81",
   "metadata": {
    "execution": {
     "iopub.execute_input": "2023-09-07T07:02:36.553253Z",
     "iopub.status.busy": "2023-09-07T07:02:36.553002Z",
     "iopub.status.idle": "2023-09-07T07:02:41.412635Z",
     "shell.execute_reply": "2023-09-07T07:02:41.411820Z",
     "shell.execute_reply.started": "2023-09-07T07:02:36.553226Z"
    }
   },
   "outputs": [
    {
     "name": "stdout",
     "output_type": "stream",
     "text": [
      "/storage/stable-diffusion/stable-diffusion-webui/models/ControlNet\n",
      "--2023-09-07 07:02:37--  https://huggingface.co/lllyasviel/ControlNet-v1-1/resolve/main/control_v11p_sd15_normalbae.pth\n",
      "Resolving huggingface.co (huggingface.co)... 18.164.124.11, 18.164.124.47, 18.164.124.99, ...\n",
      "Connecting to huggingface.co (huggingface.co)|18.164.124.11|:443... connected.\n",
      "HTTP request sent, awaiting response... 302 Found\n",
      "Location: https://cdn-lfs.huggingface.co/repos/e7/4c/e74c9ddc88b5a293fa8aafeb615d6c61cb3aaa34dc7ce9e25100dfae2b09bf55/9608158c204261259f4b5a7815ced8f5c15e5de4e30a9403d07f68f29f81e941?response-content-disposition=attachment%3B+filename*%3DUTF-8%27%27control_v11p_sd15_normalbae.pth%3B+filename%3D%22control_v11p_sd15_normalbae.pth%22%3B&Expires=1694326229&Policy=eyJTdGF0ZW1lbnQiOlt7IkNvbmRpdGlvbiI6eyJEYXRlTGVzc1RoYW4iOnsiQVdTOkVwb2NoVGltZSI6MTY5NDMyNjIyOX19LCJSZXNvdXJjZSI6Imh0dHBzOi8vY2RuLWxmcy5odWdnaW5nZmFjZS5jby9yZXBvcy9lNy80Yy9lNzRjOWRkYzg4YjVhMjkzZmE4YWFmZWI2MTVkNmM2MWNiM2FhYTM0ZGM3Y2U5ZTI1MTAwZGZhZTJiMDliZjU1Lzk2MDgxNThjMjA0MjYxMjU5ZjRiNWE3ODE1Y2VkOGY1YzE1ZTVkZTRlMzBhOTQwM2QwN2Y2OGYyOWY4MWU5NDE%7EcmVzcG9uc2UtY29udGVudC1kaXNwb3NpdGlvbj0qIn1dfQ__&Signature=BRXEF1845d9L27C3FEWOdEEcn%7Evw6v9TqzG8n7vO-f1NpsLMc96ynWTaQzoCX8VIjw%7EMLmGMOqiyTOJcPsaJ%7EMgpqzhsCmZfvTVxvBPzBaYZu-CaSpavZiFmxqMEtCyXgqvW-J2o4RtF2QqI4ojTL6L8A1WVOpBtJGiCd-DwS3gPBDt%7E9kMQ8MU6QzrJdl1YoxGIGhlczCc1rjCGdj-h-m%7ESkRgqEpTEPjrXbj96pYevwJRncVptOhVQnnNsGr0jDJjWyOH7GbtknMtx-0%7E64IAsLysCK7zOFl9vvJkqGbcTUslgCBaMFp2TbSxnxfdWsihLpbHw%7EtlikDCsbZyZ8w__&Key-Pair-Id=KVTP0A1DKRTAX [following]\n",
      "--2023-09-07 07:02:37--  https://cdn-lfs.huggingface.co/repos/e7/4c/e74c9ddc88b5a293fa8aafeb615d6c61cb3aaa34dc7ce9e25100dfae2b09bf55/9608158c204261259f4b5a7815ced8f5c15e5de4e30a9403d07f68f29f81e941?response-content-disposition=attachment%3B+filename*%3DUTF-8%27%27control_v11p_sd15_normalbae.pth%3B+filename%3D%22control_v11p_sd15_normalbae.pth%22%3B&Expires=1694326229&Policy=eyJTdGF0ZW1lbnQiOlt7IkNvbmRpdGlvbiI6eyJEYXRlTGVzc1RoYW4iOnsiQVdTOkVwb2NoVGltZSI6MTY5NDMyNjIyOX19LCJSZXNvdXJjZSI6Imh0dHBzOi8vY2RuLWxmcy5odWdnaW5nZmFjZS5jby9yZXBvcy9lNy80Yy9lNzRjOWRkYzg4YjVhMjkzZmE4YWFmZWI2MTVkNmM2MWNiM2FhYTM0ZGM3Y2U5ZTI1MTAwZGZhZTJiMDliZjU1Lzk2MDgxNThjMjA0MjYxMjU5ZjRiNWE3ODE1Y2VkOGY1YzE1ZTVkZTRlMzBhOTQwM2QwN2Y2OGYyOWY4MWU5NDE%7EcmVzcG9uc2UtY29udGVudC1kaXNwb3NpdGlvbj0qIn1dfQ__&Signature=BRXEF1845d9L27C3FEWOdEEcn%7Evw6v9TqzG8n7vO-f1NpsLMc96ynWTaQzoCX8VIjw%7EMLmGMOqiyTOJcPsaJ%7EMgpqzhsCmZfvTVxvBPzBaYZu-CaSpavZiFmxqMEtCyXgqvW-J2o4RtF2QqI4ojTL6L8A1WVOpBtJGiCd-DwS3gPBDt%7E9kMQ8MU6QzrJdl1YoxGIGhlczCc1rjCGdj-h-m%7ESkRgqEpTEPjrXbj96pYevwJRncVptOhVQnnNsGr0jDJjWyOH7GbtknMtx-0%7E64IAsLysCK7zOFl9vvJkqGbcTUslgCBaMFp2TbSxnxfdWsihLpbHw%7EtlikDCsbZyZ8w__&Key-Pair-Id=KVTP0A1DKRTAX\n",
      "Resolving cdn-lfs.huggingface.co (cdn-lfs.huggingface.co)... 18.164.116.106, 18.164.116.15, 18.164.116.66, ...\n",
      "Connecting to cdn-lfs.huggingface.co (cdn-lfs.huggingface.co)|18.164.116.106|:443... connected.\n",
      "HTTP request sent, awaiting response... 200 OK\n",
      "Length: 1445236049 (1.3G) [binary/octet-stream]\n",
      "Saving to: ‘control_v11p_sd15_normalbae.pth’\n",
      "\n",
      "control_v11p_sd15_n 100%[===================>]   1.35G   345MB/s    in 4.0s    \n",
      "\n",
      "2023-09-07 07:02:41 (345 MB/s) - ‘control_v11p_sd15_normalbae.pth’ saved [1445236049/1445236049]\n",
      "\n"
     ]
    }
   ],
   "source": [
    "# Normal\n",
    "%cd /notebooks/stable-diffusion-webui/models/ControlNet\n",
    "!wget https://huggingface.co/lllyasviel/ControlNet-v1-1/resolve/main/control_v11p_sd15_normalbae.pth"
   ]
  },
  {
   "cell_type": "code",
   "execution_count": 5,
   "id": "af1cd380-8392-4099-a972-7ce67b31d0f3",
   "metadata": {
    "execution": {
     "iopub.execute_input": "2023-09-07T07:02:41.415068Z",
     "iopub.status.busy": "2023-09-07T07:02:41.414822Z",
     "iopub.status.idle": "2023-09-07T07:02:46.549721Z",
     "shell.execute_reply": "2023-09-07T07:02:46.549065Z",
     "shell.execute_reply.started": "2023-09-07T07:02:41.415040Z"
    }
   },
   "outputs": [
    {
     "name": "stdout",
     "output_type": "stream",
     "text": [
      "/storage/stable-diffusion/stable-diffusion-webui/models/ControlNet\n",
      "--2023-09-07 07:02:42--  https://huggingface.co/lllyasviel/ControlNet-v1-1/resolve/main/control_v11p_sd15_seg.pth\n",
      "Resolving huggingface.co (huggingface.co)... 18.164.124.99, 18.164.124.11, 18.164.124.27, ...\n",
      "Connecting to huggingface.co (huggingface.co)|18.164.124.99|:443... connected.\n",
      "HTTP request sent, awaiting response... 302 Found\n",
      "Location: https://cdn-lfs.huggingface.co/repos/e7/4c/e74c9ddc88b5a293fa8aafeb615d6c61cb3aaa34dc7ce9e25100dfae2b09bf55/bad6d753886c0edc978e79dfb06083737ab1bd9702e5b7c0f81b1e16a5ed12cc?response-content-disposition=attachment%3B+filename*%3DUTF-8%27%27control_v11p_sd15_seg.pth%3B+filename%3D%22control_v11p_sd15_seg.pth%22%3B&Expires=1694329230&Policy=eyJTdGF0ZW1lbnQiOlt7IkNvbmRpdGlvbiI6eyJEYXRlTGVzc1RoYW4iOnsiQVdTOkVwb2NoVGltZSI6MTY5NDMyOTIzMH19LCJSZXNvdXJjZSI6Imh0dHBzOi8vY2RuLWxmcy5odWdnaW5nZmFjZS5jby9yZXBvcy9lNy80Yy9lNzRjOWRkYzg4YjVhMjkzZmE4YWFmZWI2MTVkNmM2MWNiM2FhYTM0ZGM3Y2U5ZTI1MTAwZGZhZTJiMDliZjU1L2JhZDZkNzUzODg2YzBlZGM5NzhlNzlkZmIwNjA4MzczN2FiMWJkOTcwMmU1YjdjMGY4MWIxZTE2YTVlZDEyY2M%7EcmVzcG9uc2UtY29udGVudC1kaXNwb3NpdGlvbj0qIn1dfQ__&Signature=YFVa2uBkyY-nhSRTq7sU8zeKnKPn1MTVSE10DiHcX4lPHFmPsIlIcIW5WgZ%7EN4CYl8N801Tkc3JBAQUkN2S54QWli7tJJaDKTSxY-pyVJLnjhsYbNP-AD4dheg5OrVkOXOyGpDvk%7ENUhLjW7ffETdgWCqV8If-%7EVRMtLDFK0n4uRyVBOip%7EqfpLogeDwCT7UbJ31UnYwsXR7zaAdmfxRKg9nkEVN5Kv4M4PXIepXGbv3ZjhFpMGrtlNg2PHNCdeeBfDdSoV4LY1V%7EQFxxmP0DNRMA1IvB2ck51oSZ0KxZySl4CcZv7UDLa8WeIOUOX0altOzhXrAXrsWoi9tCbB9nQ__&Key-Pair-Id=KVTP0A1DKRTAX [following]\n",
      "--2023-09-07 07:02:42--  https://cdn-lfs.huggingface.co/repos/e7/4c/e74c9ddc88b5a293fa8aafeb615d6c61cb3aaa34dc7ce9e25100dfae2b09bf55/bad6d753886c0edc978e79dfb06083737ab1bd9702e5b7c0f81b1e16a5ed12cc?response-content-disposition=attachment%3B+filename*%3DUTF-8%27%27control_v11p_sd15_seg.pth%3B+filename%3D%22control_v11p_sd15_seg.pth%22%3B&Expires=1694329230&Policy=eyJTdGF0ZW1lbnQiOlt7IkNvbmRpdGlvbiI6eyJEYXRlTGVzc1RoYW4iOnsiQVdTOkVwb2NoVGltZSI6MTY5NDMyOTIzMH19LCJSZXNvdXJjZSI6Imh0dHBzOi8vY2RuLWxmcy5odWdnaW5nZmFjZS5jby9yZXBvcy9lNy80Yy9lNzRjOWRkYzg4YjVhMjkzZmE4YWFmZWI2MTVkNmM2MWNiM2FhYTM0ZGM3Y2U5ZTI1MTAwZGZhZTJiMDliZjU1L2JhZDZkNzUzODg2YzBlZGM5NzhlNzlkZmIwNjA4MzczN2FiMWJkOTcwMmU1YjdjMGY4MWIxZTE2YTVlZDEyY2M%7EcmVzcG9uc2UtY29udGVudC1kaXNwb3NpdGlvbj0qIn1dfQ__&Signature=YFVa2uBkyY-nhSRTq7sU8zeKnKPn1MTVSE10DiHcX4lPHFmPsIlIcIW5WgZ%7EN4CYl8N801Tkc3JBAQUkN2S54QWli7tJJaDKTSxY-pyVJLnjhsYbNP-AD4dheg5OrVkOXOyGpDvk%7ENUhLjW7ffETdgWCqV8If-%7EVRMtLDFK0n4uRyVBOip%7EqfpLogeDwCT7UbJ31UnYwsXR7zaAdmfxRKg9nkEVN5Kv4M4PXIepXGbv3ZjhFpMGrtlNg2PHNCdeeBfDdSoV4LY1V%7EQFxxmP0DNRMA1IvB2ck51oSZ0KxZySl4CcZv7UDLa8WeIOUOX0altOzhXrAXrsWoi9tCbB9nQ__&Key-Pair-Id=KVTP0A1DKRTAX\n",
      "Resolving cdn-lfs.huggingface.co (cdn-lfs.huggingface.co)... 18.164.116.15, 18.164.116.111, 18.164.116.106, ...\n",
      "Connecting to cdn-lfs.huggingface.co (cdn-lfs.huggingface.co)|18.164.116.15|:443... connected.\n",
      "HTTP request sent, awaiting response... 200 OK\n",
      "Length: 1445233933 (1.3G) [binary/octet-stream]\n",
      "Saving to: ‘control_v11p_sd15_seg.pth’\n",
      "\n",
      "control_v11p_sd15_s 100%[===================>]   1.35G   320MB/s    in 4.3s    \n",
      "\n",
      "2023-09-07 07:02:46 (321 MB/s) - ‘control_v11p_sd15_seg.pth’ saved [1445233933/1445233933]\n",
      "\n"
     ]
    }
   ],
   "source": [
    "# Seg\n",
    "%cd /notebooks/stable-diffusion-webui/models/ControlNet\n",
    "!wget https://huggingface.co/lllyasviel/ControlNet-v1-1/resolve/main/control_v11p_sd15_seg.pth"
   ]
  },
  {
   "cell_type": "code",
   "execution_count": 6,
   "id": "4250d4e3-de47-44b4-b97e-bfb22ba0da89",
   "metadata": {
    "execution": {
     "iopub.execute_input": "2023-09-07T07:02:46.551110Z",
     "iopub.status.busy": "2023-09-07T07:02:46.550811Z",
     "iopub.status.idle": "2023-09-07T07:02:52.239159Z",
     "shell.execute_reply": "2023-09-07T07:02:52.238474Z",
     "shell.execute_reply.started": "2023-09-07T07:02:46.551074Z"
    }
   },
   "outputs": [
    {
     "name": "stdout",
     "output_type": "stream",
     "text": [
      "/storage/stable-diffusion/stable-diffusion-webui/models/ControlNet\n",
      "--2023-09-07 07:02:47--  https://huggingface.co/lllyasviel/ControlNet-v1-1/resolve/main/control_v11e_sd15_ip2p.pth\n",
      "Resolving huggingface.co (huggingface.co)... 18.164.124.11, 18.164.124.47, 18.164.124.99, ...\n",
      "Connecting to huggingface.co (huggingface.co)|18.164.124.11|:443... connected.\n",
      "HTTP request sent, awaiting response... 302 Found\n",
      "Location: https://cdn-lfs.huggingface.co/repos/e7/4c/e74c9ddc88b5a293fa8aafeb615d6c61cb3aaa34dc7ce9e25100dfae2b09bf55/a8d77429b111b25ffad4adb4c686a19c73c905d638dd8acb1e0b1d1da300192c?response-content-disposition=attachment%3B+filename*%3DUTF-8%27%27control_v11e_sd15_ip2p.pth%3B+filename%3D%22control_v11e_sd15_ip2p.pth%22%3B&Expires=1694325574&Policy=eyJTdGF0ZW1lbnQiOlt7IkNvbmRpdGlvbiI6eyJEYXRlTGVzc1RoYW4iOnsiQVdTOkVwb2NoVGltZSI6MTY5NDMyNTU3NH19LCJSZXNvdXJjZSI6Imh0dHBzOi8vY2RuLWxmcy5odWdnaW5nZmFjZS5jby9yZXBvcy9lNy80Yy9lNzRjOWRkYzg4YjVhMjkzZmE4YWFmZWI2MTVkNmM2MWNiM2FhYTM0ZGM3Y2U5ZTI1MTAwZGZhZTJiMDliZjU1L2E4ZDc3NDI5YjExMWIyNWZmYWQ0YWRiNGM2ODZhMTljNzNjOTA1ZDYzOGRkOGFjYjFlMGIxZDFkYTMwMDE5MmM%7EcmVzcG9uc2UtY29udGVudC1kaXNwb3NpdGlvbj0qIn1dfQ__&Signature=p3ygDLhDv9vumPgx6YwQJddYhlcIIQCQ-ZIakVcjId9IOv4bOP7JhZpvg5du3d63XA4%7ELRchiKkQgO3Nx0VsEY7hGTPIKg-7jqp4Wcv5Wk3fo0uCa4OeO%7ETFUbwP-wulx4wGMm28KkoT8QIH2BXtkTxORQMYYfYgvp0MkU148Pq-AZrtmpGTzpOaMGxkrFyoj%7EAmBqewALhela73-xfH77g50KcJvq3mkil5TNOn8wwQ8Yi%7EmYQ2Fzfyd0I8pZ8cN-0dCI5myMNKT9T71WJo1CVCtG2DxWlKSlCGsu3OJikzXJP3pIKYLKsLQwWm3tzpqG36WTlhiscm0S2nLEA7iQ__&Key-Pair-Id=KVTP0A1DKRTAX [following]\n",
      "--2023-09-07 07:02:47--  https://cdn-lfs.huggingface.co/repos/e7/4c/e74c9ddc88b5a293fa8aafeb615d6c61cb3aaa34dc7ce9e25100dfae2b09bf55/a8d77429b111b25ffad4adb4c686a19c73c905d638dd8acb1e0b1d1da300192c?response-content-disposition=attachment%3B+filename*%3DUTF-8%27%27control_v11e_sd15_ip2p.pth%3B+filename%3D%22control_v11e_sd15_ip2p.pth%22%3B&Expires=1694325574&Policy=eyJTdGF0ZW1lbnQiOlt7IkNvbmRpdGlvbiI6eyJEYXRlTGVzc1RoYW4iOnsiQVdTOkVwb2NoVGltZSI6MTY5NDMyNTU3NH19LCJSZXNvdXJjZSI6Imh0dHBzOi8vY2RuLWxmcy5odWdnaW5nZmFjZS5jby9yZXBvcy9lNy80Yy9lNzRjOWRkYzg4YjVhMjkzZmE4YWFmZWI2MTVkNmM2MWNiM2FhYTM0ZGM3Y2U5ZTI1MTAwZGZhZTJiMDliZjU1L2E4ZDc3NDI5YjExMWIyNWZmYWQ0YWRiNGM2ODZhMTljNzNjOTA1ZDYzOGRkOGFjYjFlMGIxZDFkYTMwMDE5MmM%7EcmVzcG9uc2UtY29udGVudC1kaXNwb3NpdGlvbj0qIn1dfQ__&Signature=p3ygDLhDv9vumPgx6YwQJddYhlcIIQCQ-ZIakVcjId9IOv4bOP7JhZpvg5du3d63XA4%7ELRchiKkQgO3Nx0VsEY7hGTPIKg-7jqp4Wcv5Wk3fo0uCa4OeO%7ETFUbwP-wulx4wGMm28KkoT8QIH2BXtkTxORQMYYfYgvp0MkU148Pq-AZrtmpGTzpOaMGxkrFyoj%7EAmBqewALhela73-xfH77g50KcJvq3mkil5TNOn8wwQ8Yi%7EmYQ2Fzfyd0I8pZ8cN-0dCI5myMNKT9T71WJo1CVCtG2DxWlKSlCGsu3OJikzXJP3pIKYLKsLQwWm3tzpqG36WTlhiscm0S2nLEA7iQ__&Key-Pair-Id=KVTP0A1DKRTAX\n",
      "Resolving cdn-lfs.huggingface.co (cdn-lfs.huggingface.co)... 18.164.116.111, 18.164.116.106, 18.164.116.15, ...\n",
      "Connecting to cdn-lfs.huggingface.co (cdn-lfs.huggingface.co)|18.164.116.111|:443... connected.\n",
      "HTTP request sent, awaiting response... 200 OK\n",
      "Length: 1445234339 (1.3G) [binary/octet-stream]\n",
      "Saving to: ‘control_v11e_sd15_ip2p.pth’\n",
      "\n",
      "control_v11e_sd15_i 100%[===================>]   1.35G   279MB/s    in 4.9s    \n",
      "\n",
      "2023-09-07 07:02:52 (282 MB/s) - ‘control_v11e_sd15_ip2p.pth’ saved [1445234339/1445234339]\n",
      "\n"
     ]
    }
   ],
   "source": [
    "# ip2p\n",
    "%cd /notebooks/stable-diffusion-webui/models/ControlNet\n",
    "!wget https://huggingface.co/lllyasviel/ControlNet-v1-1/resolve/main/control_v11e_sd15_ip2p.pth"
   ]
  },
  {
   "cell_type": "code",
   "execution_count": 7,
   "id": "4f256f8c-3908-4251-863e-089931d9e2d7",
   "metadata": {
    "execution": {
     "iopub.execute_input": "2023-09-07T07:02:52.240357Z",
     "iopub.status.busy": "2023-09-07T07:02:52.240127Z",
     "iopub.status.idle": "2023-09-07T07:03:06.780551Z",
     "shell.execute_reply": "2023-09-07T07:03:06.779335Z",
     "shell.execute_reply.started": "2023-09-07T07:02:52.240331Z"
    }
   },
   "outputs": [
    {
     "name": "stdout",
     "output_type": "stream",
     "text": [
      "/storage/stable-diffusion/stable-diffusion-webui/models/ControlNet\n",
      "--2023-09-07 07:02:52--  https://huggingface.co/lllyasviel/ControlNet-v1-1/resolve/main/control_v11e_sd15_shuffle.pth\n",
      "Resolving huggingface.co (huggingface.co)... 18.164.124.27, 18.164.124.11, 18.164.124.99, ...\n",
      "Connecting to huggingface.co (huggingface.co)|18.164.124.27|:443... connected.\n",
      "HTTP request sent, awaiting response... 302 Found\n",
      "Location: https://cdn-lfs.huggingface.co/repos/e7/4c/e74c9ddc88b5a293fa8aafeb615d6c61cb3aaa34dc7ce9e25100dfae2b09bf55/657f632c35176c467e71c471b55b1a0e94ae1a49d739e1b705624f454e638e1d?response-content-disposition=attachment%3B+filename*%3DUTF-8%27%27control_v11e_sd15_shuffle.pth%3B+filename%3D%22control_v11e_sd15_shuffle.pth%22%3B&Expires=1694328546&Policy=eyJTdGF0ZW1lbnQiOlt7IkNvbmRpdGlvbiI6eyJEYXRlTGVzc1RoYW4iOnsiQVdTOkVwb2NoVGltZSI6MTY5NDMyODU0Nn19LCJSZXNvdXJjZSI6Imh0dHBzOi8vY2RuLWxmcy5odWdnaW5nZmFjZS5jby9yZXBvcy9lNy80Yy9lNzRjOWRkYzg4YjVhMjkzZmE4YWFmZWI2MTVkNmM2MWNiM2FhYTM0ZGM3Y2U5ZTI1MTAwZGZhZTJiMDliZjU1LzY1N2Y2MzJjMzUxNzZjNDY3ZTcxYzQ3MWI1NWIxYTBlOTRhZTFhNDlkNzM5ZTFiNzA1NjI0ZjQ1NGU2MzhlMWQ%7EcmVzcG9uc2UtY29udGVudC1kaXNwb3NpdGlvbj0qIn1dfQ__&Signature=seQkvgoNd3tTg9EFswz4WEzdnONGxFkPh8TCEjgSOe%7EsgYszgy4TRC96G-e9v6HVYWrM3UGotkpdE7SEQfWZxxvuTkE2RtrVOTbLGlk1BkSJSFiJL%7Em5iTzV%7E7foTvSW8Ng8zRcgn7mP2Dsqqs3IFImKJafs5tWBMBHGCE08qScjVrWDKjGxdvcoChJjO0hgm07-9q9JG1VPyE08VAL2H6PM26sbhvxzQDLo3x30iJX52E412fIEG1llMlaso%7EG4qW-7MqfcGLhm0hFv3YdFss13qnWu5aNb1Dbq2I-bwXKlSWwCHCJccsnznciZQvxAeuYDJesWgvM9FIhpmQetdQ__&Key-Pair-Id=KVTP0A1DKRTAX [following]\n",
      "--2023-09-07 07:02:52--  https://cdn-lfs.huggingface.co/repos/e7/4c/e74c9ddc88b5a293fa8aafeb615d6c61cb3aaa34dc7ce9e25100dfae2b09bf55/657f632c35176c467e71c471b55b1a0e94ae1a49d739e1b705624f454e638e1d?response-content-disposition=attachment%3B+filename*%3DUTF-8%27%27control_v11e_sd15_shuffle.pth%3B+filename%3D%22control_v11e_sd15_shuffle.pth%22%3B&Expires=1694328546&Policy=eyJTdGF0ZW1lbnQiOlt7IkNvbmRpdGlvbiI6eyJEYXRlTGVzc1RoYW4iOnsiQVdTOkVwb2NoVGltZSI6MTY5NDMyODU0Nn19LCJSZXNvdXJjZSI6Imh0dHBzOi8vY2RuLWxmcy5odWdnaW5nZmFjZS5jby9yZXBvcy9lNy80Yy9lNzRjOWRkYzg4YjVhMjkzZmE4YWFmZWI2MTVkNmM2MWNiM2FhYTM0ZGM3Y2U5ZTI1MTAwZGZhZTJiMDliZjU1LzY1N2Y2MzJjMzUxNzZjNDY3ZTcxYzQ3MWI1NWIxYTBlOTRhZTFhNDlkNzM5ZTFiNzA1NjI0ZjQ1NGU2MzhlMWQ%7EcmVzcG9uc2UtY29udGVudC1kaXNwb3NpdGlvbj0qIn1dfQ__&Signature=seQkvgoNd3tTg9EFswz4WEzdnONGxFkPh8TCEjgSOe%7EsgYszgy4TRC96G-e9v6HVYWrM3UGotkpdE7SEQfWZxxvuTkE2RtrVOTbLGlk1BkSJSFiJL%7Em5iTzV%7E7foTvSW8Ng8zRcgn7mP2Dsqqs3IFImKJafs5tWBMBHGCE08qScjVrWDKjGxdvcoChJjO0hgm07-9q9JG1VPyE08VAL2H6PM26sbhvxzQDLo3x30iJX52E412fIEG1llMlaso%7EG4qW-7MqfcGLhm0hFv3YdFss13qnWu5aNb1Dbq2I-bwXKlSWwCHCJccsnznciZQvxAeuYDJesWgvM9FIhpmQetdQ__&Key-Pair-Id=KVTP0A1DKRTAX\n",
      "Resolving cdn-lfs.huggingface.co (cdn-lfs.huggingface.co)... 18.164.116.111, 18.164.116.15, 18.164.116.106, ...\n",
      "Connecting to cdn-lfs.huggingface.co (cdn-lfs.huggingface.co)|18.164.116.111|:443... connected.\n",
      "HTTP request sent, awaiting response... 200 OK\n",
      "Length: 1445235365 (1.3G) [binary/octet-stream]\n",
      "Saving to: ‘control_v11e_sd15_shuffle.pth’\n",
      "\n",
      "control_v11e_sd15_s 100%[===================>]   1.35G   113MB/s    in 14s     \n",
      "\n",
      "2023-09-07 07:03:06 (101 MB/s) - ‘control_v11e_sd15_shuffle.pth’ saved [1445235365/1445235365]\n",
      "\n"
     ]
    }
   ],
   "source": [
    "# Shuffle\n",
    "%cd /notebooks/stable-diffusion-webui/models/ControlNet\n",
    "!wget https://huggingface.co/lllyasviel/ControlNet-v1-1/resolve/main/control_v11e_sd15_shuffle.pth"
   ]
  },
  {
   "cell_type": "code",
   "execution_count": 8,
   "id": "417b6702-8f06-448e-90e5-a6f701cfc83a",
   "metadata": {
    "execution": {
     "iopub.execute_input": "2023-09-07T07:03:06.782133Z",
     "iopub.status.busy": "2023-09-07T07:03:06.781880Z",
     "iopub.status.idle": "2023-09-07T07:03:12.861878Z",
     "shell.execute_reply": "2023-09-07T07:03:12.859860Z",
     "shell.execute_reply.started": "2023-09-07T07:03:06.782104Z"
    }
   },
   "outputs": [
    {
     "name": "stdout",
     "output_type": "stream",
     "text": [
      "/storage/stable-diffusion/stable-diffusion-webui/models/ControlNet\n",
      "--2023-09-07 07:03:07--  https://huggingface.co/lllyasviel/ControlNet-v1-1/resolve/main/control_v11p_sd15_inpaint.pth\n",
      "Resolving huggingface.co (huggingface.co)... 18.164.124.11, 18.164.124.27, 18.164.124.47, ...\n",
      "Connecting to huggingface.co (huggingface.co)|18.164.124.11|:443... connected.\n",
      "HTTP request sent, awaiting response... 302 Found\n",
      "Location: https://cdn-lfs.huggingface.co/repos/e7/4c/e74c9ddc88b5a293fa8aafeb615d6c61cb3aaa34dc7ce9e25100dfae2b09bf55/a2a0ff91882a0fbacbded5edeca7babdb6d1bd8f770880a91c177bd44cd58633?response-content-disposition=attachment%3B+filename*%3DUTF-8%27%27control_v11p_sd15_inpaint.pth%3B+filename%3D%22control_v11p_sd15_inpaint.pth%22%3B&Expires=1694326054&Policy=eyJTdGF0ZW1lbnQiOlt7IkNvbmRpdGlvbiI6eyJEYXRlTGVzc1RoYW4iOnsiQVdTOkVwb2NoVGltZSI6MTY5NDMyNjA1NH19LCJSZXNvdXJjZSI6Imh0dHBzOi8vY2RuLWxmcy5odWdnaW5nZmFjZS5jby9yZXBvcy9lNy80Yy9lNzRjOWRkYzg4YjVhMjkzZmE4YWFmZWI2MTVkNmM2MWNiM2FhYTM0ZGM3Y2U5ZTI1MTAwZGZhZTJiMDliZjU1L2EyYTBmZjkxODgyYTBmYmFjYmRlZDVlZGVjYTdiYWJkYjZkMWJkOGY3NzA4ODBhOTFjMTc3YmQ0NGNkNTg2MzM%7EcmVzcG9uc2UtY29udGVudC1kaXNwb3NpdGlvbj0qIn1dfQ__&Signature=GNmGRYkmhDWtx649o-e-f%7EYZbi893MzLcL5Tyip-L5BYhvKzFdHd0D5m1wuezXOIZpANVWJcCiAb8b5Pp%7E7bpVKxfeQ9KGPXP3w3nMw46WJuzCmx7Sf5F0aTto9LbrxWeUgpNHmaGFSmdn-hFpVCXoUDJWXnTIJVeblgJetl7rKOpRDNY7hLbUcBQTDcSvq5oXrS-DkvMnIqpMg02ldaNnDLelg8sgbATDUnxjz3LYQw4nt-nwIWG7T4U3WXYpOvHqhC4FPqW9lZRF3Q5vQXUcy9PUy9CfMjKjFPx2GAf5NDbLKFdkNv6bFb-WyDi6H-ifVx0B2wxWjs34RFNSuq%7EQ__&Key-Pair-Id=KVTP0A1DKRTAX [following]\n",
      "--2023-09-07 07:03:07--  https://cdn-lfs.huggingface.co/repos/e7/4c/e74c9ddc88b5a293fa8aafeb615d6c61cb3aaa34dc7ce9e25100dfae2b09bf55/a2a0ff91882a0fbacbded5edeca7babdb6d1bd8f770880a91c177bd44cd58633?response-content-disposition=attachment%3B+filename*%3DUTF-8%27%27control_v11p_sd15_inpaint.pth%3B+filename%3D%22control_v11p_sd15_inpaint.pth%22%3B&Expires=1694326054&Policy=eyJTdGF0ZW1lbnQiOlt7IkNvbmRpdGlvbiI6eyJEYXRlTGVzc1RoYW4iOnsiQVdTOkVwb2NoVGltZSI6MTY5NDMyNjA1NH19LCJSZXNvdXJjZSI6Imh0dHBzOi8vY2RuLWxmcy5odWdnaW5nZmFjZS5jby9yZXBvcy9lNy80Yy9lNzRjOWRkYzg4YjVhMjkzZmE4YWFmZWI2MTVkNmM2MWNiM2FhYTM0ZGM3Y2U5ZTI1MTAwZGZhZTJiMDliZjU1L2EyYTBmZjkxODgyYTBmYmFjYmRlZDVlZGVjYTdiYWJkYjZkMWJkOGY3NzA4ODBhOTFjMTc3YmQ0NGNkNTg2MzM%7EcmVzcG9uc2UtY29udGVudC1kaXNwb3NpdGlvbj0qIn1dfQ__&Signature=GNmGRYkmhDWtx649o-e-f%7EYZbi893MzLcL5Tyip-L5BYhvKzFdHd0D5m1wuezXOIZpANVWJcCiAb8b5Pp%7E7bpVKxfeQ9KGPXP3w3nMw46WJuzCmx7Sf5F0aTto9LbrxWeUgpNHmaGFSmdn-hFpVCXoUDJWXnTIJVeblgJetl7rKOpRDNY7hLbUcBQTDcSvq5oXrS-DkvMnIqpMg02ldaNnDLelg8sgbATDUnxjz3LYQw4nt-nwIWG7T4U3WXYpOvHqhC4FPqW9lZRF3Q5vQXUcy9PUy9CfMjKjFPx2GAf5NDbLKFdkNv6bFb-WyDi6H-ifVx0B2wxWjs34RFNSuq%7EQ__&Key-Pair-Id=KVTP0A1DKRTAX\n",
      "Resolving cdn-lfs.huggingface.co (cdn-lfs.huggingface.co)... 18.164.116.66, 18.164.116.106, 18.164.116.15, ...\n",
      "Connecting to cdn-lfs.huggingface.co (cdn-lfs.huggingface.co)|18.164.116.66|:443... connected.\n",
      "HTTP request sent, awaiting response... 200 OK\n",
      "Length: 1445235365 (1.3G) [binary/octet-stream]\n",
      "Saving to: ‘control_v11p_sd15_inpaint.pth’\n",
      "\n",
      "control_v11p_sd15_i 100%[===================>]   1.35G   281MB/s    in 5.3s    \n",
      "\n",
      "2023-09-07 07:03:12 (262 MB/s) - ‘control_v11p_sd15_inpaint.pth’ saved [1445235365/1445235365]\n",
      "\n"
     ]
    }
   ],
   "source": [
    "# Inpaint\n",
    "%cd /notebooks/stable-diffusion-webui/models/ControlNet\n",
    "!wget https://huggingface.co/lllyasviel/ControlNet-v1-1/resolve/main/control_v11p_sd15_inpaint.pth"
   ]
  },
  {
   "cell_type": "code",
   "execution_count": 9,
   "id": "bf45d02f-c47a-41af-9432-d969f48baedd",
   "metadata": {
    "execution": {
     "iopub.execute_input": "2023-09-07T07:03:12.865147Z",
     "iopub.status.busy": "2023-09-07T07:03:12.864268Z",
     "iopub.status.idle": "2023-09-07T07:03:30.889269Z",
     "shell.execute_reply": "2023-09-07T07:03:30.888518Z",
     "shell.execute_reply.started": "2023-09-07T07:03:12.865067Z"
    }
   },
   "outputs": [
    {
     "name": "stdout",
     "output_type": "stream",
     "text": [
      "/storage/stable-diffusion/stable-diffusion-webui/models/ControlNet\n",
      "--2023-09-07 07:03:13--  https://huggingface.co/lllyasviel/ControlNet-v1-1/resolve/main/control_v11p_sd15_softedge.pth\n",
      "Resolving huggingface.co (huggingface.co)... 18.164.124.11, 18.164.124.27, 18.164.124.99, ...\n",
      "Connecting to huggingface.co (huggingface.co)|18.164.124.11|:443... connected.\n",
      "HTTP request sent, awaiting response... 302 Found\n",
      "Location: https://cdn-lfs.huggingface.co/repos/e7/4c/e74c9ddc88b5a293fa8aafeb615d6c61cb3aaa34dc7ce9e25100dfae2b09bf55/20759ef71a109c4796e637d86eea8db492ec9772b6d5cb7a9afd077847b403f3?response-content-disposition=attachment%3B+filename*%3DUTF-8%27%27control_v11p_sd15_softedge.pth%3B+filename%3D%22control_v11p_sd15_softedge.pth%22%3B&Expires=1694326224&Policy=eyJTdGF0ZW1lbnQiOlt7IkNvbmRpdGlvbiI6eyJEYXRlTGVzc1RoYW4iOnsiQVdTOkVwb2NoVGltZSI6MTY5NDMyNjIyNH19LCJSZXNvdXJjZSI6Imh0dHBzOi8vY2RuLWxmcy5odWdnaW5nZmFjZS5jby9yZXBvcy9lNy80Yy9lNzRjOWRkYzg4YjVhMjkzZmE4YWFmZWI2MTVkNmM2MWNiM2FhYTM0ZGM3Y2U5ZTI1MTAwZGZhZTJiMDliZjU1LzIwNzU5ZWY3MWExMDljNDc5NmU2MzdkODZlZWE4ZGI0OTJlYzk3NzJiNmQ1Y2I3YTlhZmQwNzc4NDdiNDAzZjM%7EcmVzcG9uc2UtY29udGVudC1kaXNwb3NpdGlvbj0qIn1dfQ__&Signature=mRNjxmU39GdrqPkB7tbfFqfKdZ-O64TaI6eMknktvhj1I94%7ElygFHSo7FmuYQ-sGlb10V1F0Q2ZLnoIZ1R4nkQtoOVf0AeB7-AAMAAKNX4Jd6ccbsMONcWWRlHZcCxjIkaSyjXGFjJwSCNlJOxAQAhGgCI9zADBeXS1-5dVR3PvI-s4vy83M-VIvr1ANg2l3qh3vcOJrlo--XlxE2qzV1woF9qh7y-mC5-eAkZKnkWfCfF9tZZYBi8ODcsSf9n4mmyua7YglylPcs%7EgBaRhhYM20rZgWyrd%7Ec5kpPXo1tf5hW2V0KFti8a0W2ipQGEgQUuUODC%7EM5ZvdGhcRJdPfSA__&Key-Pair-Id=KVTP0A1DKRTAX [following]\n",
      "--2023-09-07 07:03:13--  https://cdn-lfs.huggingface.co/repos/e7/4c/e74c9ddc88b5a293fa8aafeb615d6c61cb3aaa34dc7ce9e25100dfae2b09bf55/20759ef71a109c4796e637d86eea8db492ec9772b6d5cb7a9afd077847b403f3?response-content-disposition=attachment%3B+filename*%3DUTF-8%27%27control_v11p_sd15_softedge.pth%3B+filename%3D%22control_v11p_sd15_softedge.pth%22%3B&Expires=1694326224&Policy=eyJTdGF0ZW1lbnQiOlt7IkNvbmRpdGlvbiI6eyJEYXRlTGVzc1RoYW4iOnsiQVdTOkVwb2NoVGltZSI6MTY5NDMyNjIyNH19LCJSZXNvdXJjZSI6Imh0dHBzOi8vY2RuLWxmcy5odWdnaW5nZmFjZS5jby9yZXBvcy9lNy80Yy9lNzRjOWRkYzg4YjVhMjkzZmE4YWFmZWI2MTVkNmM2MWNiM2FhYTM0ZGM3Y2U5ZTI1MTAwZGZhZTJiMDliZjU1LzIwNzU5ZWY3MWExMDljNDc5NmU2MzdkODZlZWE4ZGI0OTJlYzk3NzJiNmQ1Y2I3YTlhZmQwNzc4NDdiNDAzZjM%7EcmVzcG9uc2UtY29udGVudC1kaXNwb3NpdGlvbj0qIn1dfQ__&Signature=mRNjxmU39GdrqPkB7tbfFqfKdZ-O64TaI6eMknktvhj1I94%7ElygFHSo7FmuYQ-sGlb10V1F0Q2ZLnoIZ1R4nkQtoOVf0AeB7-AAMAAKNX4Jd6ccbsMONcWWRlHZcCxjIkaSyjXGFjJwSCNlJOxAQAhGgCI9zADBeXS1-5dVR3PvI-s4vy83M-VIvr1ANg2l3qh3vcOJrlo--XlxE2qzV1woF9qh7y-mC5-eAkZKnkWfCfF9tZZYBi8ODcsSf9n4mmyua7YglylPcs%7EgBaRhhYM20rZgWyrd%7Ec5kpPXo1tf5hW2V0KFti8a0W2ipQGEgQUuUODC%7EM5ZvdGhcRJdPfSA__&Key-Pair-Id=KVTP0A1DKRTAX\n",
      "Resolving cdn-lfs.huggingface.co (cdn-lfs.huggingface.co)... 18.164.116.106, 18.164.116.15, 18.164.116.111, ...\n",
      "Connecting to cdn-lfs.huggingface.co (cdn-lfs.huggingface.co)|18.164.116.106|:443... connected.\n",
      "HTTP request sent, awaiting response... 200 OK\n",
      "Length: 1445235707 (1.3G) [binary/octet-stream]\n",
      "Saving to: ‘control_v11p_sd15_softedge.pth’\n",
      "\n",
      "control_v11p_sd15_s 100%[===================>]   1.35G   117MB/s    in 12s     \n",
      "\n",
      "2023-09-07 07:03:30 (114 MB/s) - ‘control_v11p_sd15_softedge.pth’ saved [1445235707/1445235707]\n",
      "\n"
     ]
    }
   ],
   "source": [
    "# Softedge\n",
    "%cd /notebooks/stable-diffusion-webui/models/ControlNet\n",
    "!wget https://huggingface.co/lllyasviel/ControlNet-v1-1/resolve/main/control_v11p_sd15_softedge.pth"
   ]
  },
  {
   "cell_type": "code",
   "execution_count": 10,
   "id": "b5ec2337-cd82-4544-a32d-4a8be009ac7f",
   "metadata": {
    "execution": {
     "iopub.execute_input": "2023-09-07T07:03:30.890813Z",
     "iopub.status.busy": "2023-09-07T07:03:30.890452Z",
     "iopub.status.idle": "2023-09-07T07:03:35.940887Z",
     "shell.execute_reply": "2023-09-07T07:03:35.939987Z",
     "shell.execute_reply.started": "2023-09-07T07:03:30.890731Z"
    }
   },
   "outputs": [
    {
     "name": "stdout",
     "output_type": "stream",
     "text": [
      "/storage/stable-diffusion/stable-diffusion-webui/models/ControlNet\n",
      "--2023-09-07 07:03:31--  https://huggingface.co/lllyasviel/ControlNet-v1-1/resolve/main/control_v11p_sd15s2_lineart_anime.pth\n",
      "Resolving huggingface.co (huggingface.co)... 18.164.124.11, 18.164.124.27, 18.164.124.47, ...\n",
      "Connecting to huggingface.co (huggingface.co)|18.164.124.11|:443... connected.\n",
      "HTTP request sent, awaiting response... 302 Found\n",
      "Location: https://cdn-lfs.huggingface.co/repos/e7/4c/e74c9ddc88b5a293fa8aafeb615d6c61cb3aaa34dc7ce9e25100dfae2b09bf55/59169ab86e8ae15ad50208cc5832f1cc598b95391d4482ba742b344c8f7f6904?response-content-disposition=attachment%3B+filename*%3DUTF-8%27%27control_v11p_sd15s2_lineart_anime.pth%3B+filename%3D%22control_v11p_sd15s2_lineart_anime.pth%22%3B&Expires=1694328992&Policy=eyJTdGF0ZW1lbnQiOlt7IkNvbmRpdGlvbiI6eyJEYXRlTGVzc1RoYW4iOnsiQVdTOkVwb2NoVGltZSI6MTY5NDMyODk5Mn19LCJSZXNvdXJjZSI6Imh0dHBzOi8vY2RuLWxmcy5odWdnaW5nZmFjZS5jby9yZXBvcy9lNy80Yy9lNzRjOWRkYzg4YjVhMjkzZmE4YWFmZWI2MTVkNmM2MWNiM2FhYTM0ZGM3Y2U5ZTI1MTAwZGZhZTJiMDliZjU1LzU5MTY5YWI4NmU4YWUxNWFkNTAyMDhjYzU4MzJmMWNjNTk4Yjk1MzkxZDQ0ODJiYTc0MmIzNDRjOGY3ZjY5MDQ%7EcmVzcG9uc2UtY29udGVudC1kaXNwb3NpdGlvbj0qIn1dfQ__&Signature=n7HRHSxawoMoTSHm9rf0hzhcgbsX-F3gkE3eTSqjMVLx1imac-WDWmhJrL6IZASjie3RTVPGb3vPB4xf%7Eqk0jDtbKCLKmvbPHdyuhh1XWdEMdt6viqkbA78HSIgfNda-sRBDAun1Tanhelux3E-1ctnfdORCACj2rnFiBJcCUcZ3i35uiwks0ry6Bu1qPT7pj4zCRlUzIyFDz7jBQtOCuNd%7EP8S3DTLq4gKGVwOE38fy3xvz00n14k4FONXfXD7N1ELCu2bji6RCFO5weCCgFZLyGKsvkvQeSa6CZEHhAtjvfjXmyn5qJIYhGMUCVIxly1F6CXh91Xfhd53T1Sf1aQ__&Key-Pair-Id=KVTP0A1DKRTAX [following]\n",
      "--2023-09-07 07:03:31--  https://cdn-lfs.huggingface.co/repos/e7/4c/e74c9ddc88b5a293fa8aafeb615d6c61cb3aaa34dc7ce9e25100dfae2b09bf55/59169ab86e8ae15ad50208cc5832f1cc598b95391d4482ba742b344c8f7f6904?response-content-disposition=attachment%3B+filename*%3DUTF-8%27%27control_v11p_sd15s2_lineart_anime.pth%3B+filename%3D%22control_v11p_sd15s2_lineart_anime.pth%22%3B&Expires=1694328992&Policy=eyJTdGF0ZW1lbnQiOlt7IkNvbmRpdGlvbiI6eyJEYXRlTGVzc1RoYW4iOnsiQVdTOkVwb2NoVGltZSI6MTY5NDMyODk5Mn19LCJSZXNvdXJjZSI6Imh0dHBzOi8vY2RuLWxmcy5odWdnaW5nZmFjZS5jby9yZXBvcy9lNy80Yy9lNzRjOWRkYzg4YjVhMjkzZmE4YWFmZWI2MTVkNmM2MWNiM2FhYTM0ZGM3Y2U5ZTI1MTAwZGZhZTJiMDliZjU1LzU5MTY5YWI4NmU4YWUxNWFkNTAyMDhjYzU4MzJmMWNjNTk4Yjk1MzkxZDQ0ODJiYTc0MmIzNDRjOGY3ZjY5MDQ%7EcmVzcG9uc2UtY29udGVudC1kaXNwb3NpdGlvbj0qIn1dfQ__&Signature=n7HRHSxawoMoTSHm9rf0hzhcgbsX-F3gkE3eTSqjMVLx1imac-WDWmhJrL6IZASjie3RTVPGb3vPB4xf%7Eqk0jDtbKCLKmvbPHdyuhh1XWdEMdt6viqkbA78HSIgfNda-sRBDAun1Tanhelux3E-1ctnfdORCACj2rnFiBJcCUcZ3i35uiwks0ry6Bu1qPT7pj4zCRlUzIyFDz7jBQtOCuNd%7EP8S3DTLq4gKGVwOE38fy3xvz00n14k4FONXfXD7N1ELCu2bji6RCFO5weCCgFZLyGKsvkvQeSa6CZEHhAtjvfjXmyn5qJIYhGMUCVIxly1F6CXh91Xfhd53T1Sf1aQ__&Key-Pair-Id=KVTP0A1DKRTAX\n",
      "Resolving cdn-lfs.huggingface.co (cdn-lfs.huggingface.co)... 18.164.116.106, 18.164.116.15, 18.164.116.111, ...\n",
      "Connecting to cdn-lfs.huggingface.co (cdn-lfs.huggingface.co)|18.164.116.106|:443... connected.\n",
      "HTTP request sent, awaiting response... 200 OK\n",
      "Length: 1445238101 (1.3G) [binary/octet-stream]\n",
      "Saving to: ‘control_v11p_sd15s2_lineart_anime.pth’\n",
      "\n",
      "control_v11p_sd15s2 100%[===================>]   1.35G   324MB/s    in 4.2s    \n",
      "\n",
      "2023-09-07 07:03:35 (326 MB/s) - ‘control_v11p_sd15s2_lineart_anime.pth’ saved [1445238101/1445238101]\n",
      "\n"
     ]
    }
   ],
   "source": [
    "# Lineart_Anime\n",
    "%cd /notebooks/stable-diffusion-webui/models/ControlNet\n",
    "!wget https://huggingface.co/lllyasviel/ControlNet-v1-1/resolve/main/control_v11p_sd15s2_lineart_anime.pth"
   ]
  },
  {
   "cell_type": "code",
   "execution_count": 11,
   "id": "96da73c0-b607-4353-b8b0-28ad20877583",
   "metadata": {
    "execution": {
     "iopub.execute_input": "2023-09-07T07:03:35.942451Z",
     "iopub.status.busy": "2023-09-07T07:03:35.942198Z",
     "iopub.status.idle": "2023-09-07T07:03:46.501437Z",
     "shell.execute_reply": "2023-09-07T07:03:46.500430Z",
     "shell.execute_reply.started": "2023-09-07T07:03:35.942422Z"
    }
   },
   "outputs": [
    {
     "name": "stdout",
     "output_type": "stream",
     "text": [
      "/storage/stable-diffusion/stable-diffusion-webui/models/ControlNet\n",
      "--2023-09-07 07:03:36--  https://huggingface.co/lllyasviel/ControlNet-v1-1/resolve/main/control_v11f1e_sd15_tile.pth\n",
      "Resolving huggingface.co (huggingface.co)... 18.164.124.47, 18.164.124.11, 18.164.124.99, ...\n",
      "Connecting to huggingface.co (huggingface.co)|18.164.124.47|:443... connected.\n",
      "HTTP request sent, awaiting response... 302 Found\n",
      "Location: https://cdn-lfs.huggingface.co/repos/e7/4c/e74c9ddc88b5a293fa8aafeb615d6c61cb3aaa34dc7ce9e25100dfae2b09bf55/8aa69b8d391e72c2fced6a650268137dc0ed594cafe8a2c0f8b994799a21979b?response-content-disposition=attachment%3B+filename*%3DUTF-8%27%27control_v11f1e_sd15_tile.pth%3B+filename%3D%22control_v11f1e_sd15_tile.pth%22%3B&Expires=1694329010&Policy=eyJTdGF0ZW1lbnQiOlt7IkNvbmRpdGlvbiI6eyJEYXRlTGVzc1RoYW4iOnsiQVdTOkVwb2NoVGltZSI6MTY5NDMyOTAxMH19LCJSZXNvdXJjZSI6Imh0dHBzOi8vY2RuLWxmcy5odWdnaW5nZmFjZS5jby9yZXBvcy9lNy80Yy9lNzRjOWRkYzg4YjVhMjkzZmE4YWFmZWI2MTVkNmM2MWNiM2FhYTM0ZGM3Y2U5ZTI1MTAwZGZhZTJiMDliZjU1LzhhYTY5YjhkMzkxZTcyYzJmY2VkNmE2NTAyNjgxMzdkYzBlZDU5NGNhZmU4YTJjMGY4Yjk5NDc5OWEyMTk3OWI%7EcmVzcG9uc2UtY29udGVudC1kaXNwb3NpdGlvbj0qIn1dfQ__&Signature=pFTIzj7F5tfkc0m-uB6Oh7TPbGE-OVwrC-B71BGYhbdL-amyNOY3peMA4H2lQo5rTy6wltP-OhRH9IFEm3dbt3As1yql0yIWvV167AoeJtLw93dhvd36pTCYbDPPjThsYRKuNcn618ST7vwfMqL5y0o-q19F9uZqLzD2%7EOU8d4k7Z3wUhuPPhGA0qjOf3GXcOTpzuRb-V9GfH2gSZruXpApoPZSP5E7wjGiJMKjhiHitlVafBJJU25IwBqukDnEJQvIifSxkeI4V-NKcjEfeM8CI7dEY0dNUCHGC63apTr%7EPSZmKHZetLkAkXXFyXUW7kcJOQSBIvpzN0IqPAxQ0bA__&Key-Pair-Id=KVTP0A1DKRTAX [following]\n",
      "--2023-09-07 07:03:36--  https://cdn-lfs.huggingface.co/repos/e7/4c/e74c9ddc88b5a293fa8aafeb615d6c61cb3aaa34dc7ce9e25100dfae2b09bf55/8aa69b8d391e72c2fced6a650268137dc0ed594cafe8a2c0f8b994799a21979b?response-content-disposition=attachment%3B+filename*%3DUTF-8%27%27control_v11f1e_sd15_tile.pth%3B+filename%3D%22control_v11f1e_sd15_tile.pth%22%3B&Expires=1694329010&Policy=eyJTdGF0ZW1lbnQiOlt7IkNvbmRpdGlvbiI6eyJEYXRlTGVzc1RoYW4iOnsiQVdTOkVwb2NoVGltZSI6MTY5NDMyOTAxMH19LCJSZXNvdXJjZSI6Imh0dHBzOi8vY2RuLWxmcy5odWdnaW5nZmFjZS5jby9yZXBvcy9lNy80Yy9lNzRjOWRkYzg4YjVhMjkzZmE4YWFmZWI2MTVkNmM2MWNiM2FhYTM0ZGM3Y2U5ZTI1MTAwZGZhZTJiMDliZjU1LzhhYTY5YjhkMzkxZTcyYzJmY2VkNmE2NTAyNjgxMzdkYzBlZDU5NGNhZmU4YTJjMGY4Yjk5NDc5OWEyMTk3OWI%7EcmVzcG9uc2UtY29udGVudC1kaXNwb3NpdGlvbj0qIn1dfQ__&Signature=pFTIzj7F5tfkc0m-uB6Oh7TPbGE-OVwrC-B71BGYhbdL-amyNOY3peMA4H2lQo5rTy6wltP-OhRH9IFEm3dbt3As1yql0yIWvV167AoeJtLw93dhvd36pTCYbDPPjThsYRKuNcn618ST7vwfMqL5y0o-q19F9uZqLzD2%7EOU8d4k7Z3wUhuPPhGA0qjOf3GXcOTpzuRb-V9GfH2gSZruXpApoPZSP5E7wjGiJMKjhiHitlVafBJJU25IwBqukDnEJQvIifSxkeI4V-NKcjEfeM8CI7dEY0dNUCHGC63apTr%7EPSZmKHZetLkAkXXFyXUW7kcJOQSBIvpzN0IqPAxQ0bA__&Key-Pair-Id=KVTP0A1DKRTAX\n",
      "Resolving cdn-lfs.huggingface.co (cdn-lfs.huggingface.co)... 18.164.116.66, 18.164.116.106, 18.164.116.111, ...\n",
      "Connecting to cdn-lfs.huggingface.co (cdn-lfs.huggingface.co)|18.164.116.66|:443... connected.\n",
      "HTTP request sent, awaiting response... 200 OK\n",
      "Length: 1445235023 (1.3G) [binary/octet-stream]\n",
      "Saving to: ‘control_v11f1e_sd15_tile.pth’\n",
      "\n",
      "control_v11f1e_sd15 100%[===================>]   1.35G   284MB/s    in 4.7s    \n",
      "\n",
      "2023-09-07 07:03:46 (294 MB/s) - ‘control_v11f1e_sd15_tile.pth’ saved [1445235023/1445235023]\n",
      "\n"
     ]
    }
   ],
   "source": [
    "# Tile\n",
    "%cd /notebooks/stable-diffusion-webui/models/ControlNet\n",
    "!wget https://huggingface.co/lllyasviel/ControlNet-v1-1/resolve/main/control_v11f1e_sd15_tile.pth"
   ]
  },
  {
   "cell_type": "code",
   "execution_count": 12,
   "id": "e5f14b12-1f7c-495b-8ff1-43e1b3e2f2c2",
   "metadata": {
    "execution": {
     "iopub.execute_input": "2023-09-07T07:03:46.503237Z",
     "iopub.status.busy": "2023-09-07T07:03:46.502964Z",
     "iopub.status.idle": "2023-09-07T07:03:54.484115Z",
     "shell.execute_reply": "2023-09-07T07:03:54.483138Z",
     "shell.execute_reply.started": "2023-09-07T07:03:46.503198Z"
    }
   },
   "outputs": [
    {
     "name": "stdout",
     "output_type": "stream",
     "text": [
      "/storage/stable-diffusion/stable-diffusion-webui/models/ControlNet\n",
      "--2023-09-07 07:03:47--  https://huggingface.co/thibaud/controlnet-sd21/resolve/main/control_v11p_sd21_depth.safetensors\n",
      "Resolving huggingface.co (huggingface.co)... 18.164.124.99, 18.164.124.27, 18.164.124.47, ...\n",
      "Connecting to huggingface.co (huggingface.co)|18.164.124.99|:443... connected.\n",
      "HTTP request sent, awaiting response... 302 Found\n",
      "Location: https://cdn-lfs.huggingface.co/repos/ed/30/ed30855d27981fc0fee4b0ddb99e3c6558d7255aadddc636a02f3cd2b4edd014/ed33ec158b6ea3bf61494ee71adc16d45886d5f6611d108345a184ebe7d08d81?response-content-disposition=attachment%3B+filename*%3DUTF-8%27%27control_v11p_sd21_depth.safetensors%3B+filename%3D%22control_v11p_sd21_depth.safetensors%22%3B&Expires=1694327223&Policy=eyJTdGF0ZW1lbnQiOlt7IkNvbmRpdGlvbiI6eyJEYXRlTGVzc1RoYW4iOnsiQVdTOkVwb2NoVGltZSI6MTY5NDMyNzIyM319LCJSZXNvdXJjZSI6Imh0dHBzOi8vY2RuLWxmcy5odWdnaW5nZmFjZS5jby9yZXBvcy9lZC8zMC9lZDMwODU1ZDI3OTgxZmMwZmVlNGIwZGRiOTllM2M2NTU4ZDcyNTVhYWRkZGM2MzZhMDJmM2NkMmI0ZWRkMDE0L2VkMzNlYzE1OGI2ZWEzYmY2MTQ5NGVlNzFhZGMxNmQ0NTg4NmQ1ZjY2MTFkMTA4MzQ1YTE4NGViZTdkMDhkODE%7EcmVzcG9uc2UtY29udGVudC1kaXNwb3NpdGlvbj0qIn1dfQ__&Signature=QK%7E6abQ0vJTKWX2Y1LJFwBpuf0LjnFxWBMmxCiRvZEPMkcbb7neGmWC1i5Zq3ITX0JpOsh83QGcXzI5M37Y8EmmlKA4p9Ta-YWQgNCsWmd50iFanF8yB%7Eh435-1VxO%7EzsctOoBgzwSEiGiwnFnA3PLHj0s4QSAW445PL81tiILofe0JmLXuyxQ5c60UvbGBwZTuzp-ea1bSjqFAHWCG2E%7EGKXoaPd9NhZKc5kO9yv-t4Hop4RiLfKwvLCRUGqq93seL1i%7EYFWoL0IMUmsRT5u5UveuDIcWeYKjuI0GB910nVO8AuE8aAHMZvhKJ3VOK-nQd4s6YHh9oJhw0C9OE-6Q__&Key-Pair-Id=KVTP0A1DKRTAX [following]\n",
      "--2023-09-07 07:03:47--  https://cdn-lfs.huggingface.co/repos/ed/30/ed30855d27981fc0fee4b0ddb99e3c6558d7255aadddc636a02f3cd2b4edd014/ed33ec158b6ea3bf61494ee71adc16d45886d5f6611d108345a184ebe7d08d81?response-content-disposition=attachment%3B+filename*%3DUTF-8%27%27control_v11p_sd21_depth.safetensors%3B+filename%3D%22control_v11p_sd21_depth.safetensors%22%3B&Expires=1694327223&Policy=eyJTdGF0ZW1lbnQiOlt7IkNvbmRpdGlvbiI6eyJEYXRlTGVzc1RoYW4iOnsiQVdTOkVwb2NoVGltZSI6MTY5NDMyNzIyM319LCJSZXNvdXJjZSI6Imh0dHBzOi8vY2RuLWxmcy5odWdnaW5nZmFjZS5jby9yZXBvcy9lZC8zMC9lZDMwODU1ZDI3OTgxZmMwZmVlNGIwZGRiOTllM2M2NTU4ZDcyNTVhYWRkZGM2MzZhMDJmM2NkMmI0ZWRkMDE0L2VkMzNlYzE1OGI2ZWEzYmY2MTQ5NGVlNzFhZGMxNmQ0NTg4NmQ1ZjY2MTFkMTA4MzQ1YTE4NGViZTdkMDhkODE%7EcmVzcG9uc2UtY29udGVudC1kaXNwb3NpdGlvbj0qIn1dfQ__&Signature=QK%7E6abQ0vJTKWX2Y1LJFwBpuf0LjnFxWBMmxCiRvZEPMkcbb7neGmWC1i5Zq3ITX0JpOsh83QGcXzI5M37Y8EmmlKA4p9Ta-YWQgNCsWmd50iFanF8yB%7Eh435-1VxO%7EzsctOoBgzwSEiGiwnFnA3PLHj0s4QSAW445PL81tiILofe0JmLXuyxQ5c60UvbGBwZTuzp-ea1bSjqFAHWCG2E%7EGKXoaPd9NhZKc5kO9yv-t4Hop4RiLfKwvLCRUGqq93seL1i%7EYFWoL0IMUmsRT5u5UveuDIcWeYKjuI0GB910nVO8AuE8aAHMZvhKJ3VOK-nQd4s6YHh9oJhw0C9OE-6Q__&Key-Pair-Id=KVTP0A1DKRTAX\n",
      "Resolving cdn-lfs.huggingface.co (cdn-lfs.huggingface.co)... 18.164.116.15, 18.164.116.106, 18.164.116.66, ...\n",
      "Connecting to cdn-lfs.huggingface.co (cdn-lfs.huggingface.co)|18.164.116.15|:443... connected.\n",
      "HTTP request sent, awaiting response... 200 OK\n",
      "Length: 728494536 (695M) [binary/octet-stream]\n",
      "Saving to: ‘control_v11p_sd21_depth.safetensors’\n",
      "\n",
      "control_v11p_sd21_d 100%[===================>] 694.75M   339MB/s    in 2.0s    \n",
      "\n",
      "2023-09-07 07:03:54 (339 MB/s) - ‘control_v11p_sd21_depth.safetensors’ saved [728494536/728494536]\n",
      "\n"
     ]
    }
   ],
   "source": [
    "# Depth\n",
    "%cd /notebooks/stable-diffusion-webui/models/ControlNet\n",
    "!wget https://huggingface.co/thibaud/controlnet-sd21/resolve/main/control_v11p_sd21_depth.safetensors"
   ]
  },
  {
   "cell_type": "code",
   "execution_count": 13,
   "id": "c154b34c-b03d-4c69-90f5-fa5444bfe2e7",
   "metadata": {
    "execution": {
     "iopub.execute_input": "2023-09-07T07:03:54.486149Z",
     "iopub.status.busy": "2023-09-07T07:03:54.485371Z",
     "iopub.status.idle": "2023-09-07T07:04:02.660973Z",
     "shell.execute_reply": "2023-09-07T07:04:02.659963Z",
     "shell.execute_reply.started": "2023-09-07T07:03:54.486097Z"
    }
   },
   "outputs": [
    {
     "name": "stdout",
     "output_type": "stream",
     "text": [
      "/storage/stable-diffusion/stable-diffusion-webui/models/ControlNet\n",
      "--2023-09-07 07:03:55--  https://huggingface.co/thibaud/controlnet-sd21/resolve/main/control_v11p_sd21_hed.safetensors\n",
      "Resolving huggingface.co (huggingface.co)... 18.164.124.47, 18.164.124.11, 18.164.124.99, ...\n",
      "Connecting to huggingface.co (huggingface.co)|18.164.124.47|:443... connected.\n",
      "HTTP request sent, awaiting response... 302 Found\n",
      "Location: https://cdn-lfs.huggingface.co/repos/ed/30/ed30855d27981fc0fee4b0ddb99e3c6558d7255aadddc636a02f3cd2b4edd014/c2f7b28a3ba62c372ad8a1baa875ddbecbd0f9f28b899ecd1c6add2c7b71f7cf?response-content-disposition=attachment%3B+filename*%3DUTF-8%27%27control_v11p_sd21_hed.safetensors%3B+filename%3D%22control_v11p_sd21_hed.safetensors%22%3B&Expires=1694329435&Policy=eyJTdGF0ZW1lbnQiOlt7IkNvbmRpdGlvbiI6eyJEYXRlTGVzc1RoYW4iOnsiQVdTOkVwb2NoVGltZSI6MTY5NDMyOTQzNX19LCJSZXNvdXJjZSI6Imh0dHBzOi8vY2RuLWxmcy5odWdnaW5nZmFjZS5jby9yZXBvcy9lZC8zMC9lZDMwODU1ZDI3OTgxZmMwZmVlNGIwZGRiOTllM2M2NTU4ZDcyNTVhYWRkZGM2MzZhMDJmM2NkMmI0ZWRkMDE0L2MyZjdiMjhhM2JhNjJjMzcyYWQ4YTFiYWE4NzVkZGJlY2JkMGY5ZjI4Yjg5OWVjZDFjNmFkZDJjN2I3MWY3Y2Y%7EcmVzcG9uc2UtY29udGVudC1kaXNwb3NpdGlvbj0qIn1dfQ__&Signature=r5Hw2aAj3Z%7ESilLr8lzwFIVrIuPcQaeAYIA6lDDs0scA%7E8pJ-PNKApqU58iuXSHOHZ30Y09D4v9Wies9dgxaH6sQ%7EE7FJP1tubT0coawLrS7MbGGxu-pntdjn0EnIQg1AW5gYiQrjAAcZdrgABEGDb8fUDYzrexs1ejqbUtLPWyZjWVo1o%7EAfzlPqepkVm315F8dT1NR3vgVtWCCJS-WKaWfv8KQ8y7ESKJvsk29vIjBd8dOfZXOKyzSQ6rGXb3v7AcJhuavveop9jTMlqdVSDdbQlQgmPdjDuNdm94CF3tmjabguAHehyImKeupc%7ELC9CS23sDrVBZ6bFoI50R0Sg__&Key-Pair-Id=KVTP0A1DKRTAX [following]\n",
      "--2023-09-07 07:03:55--  https://cdn-lfs.huggingface.co/repos/ed/30/ed30855d27981fc0fee4b0ddb99e3c6558d7255aadddc636a02f3cd2b4edd014/c2f7b28a3ba62c372ad8a1baa875ddbecbd0f9f28b899ecd1c6add2c7b71f7cf?response-content-disposition=attachment%3B+filename*%3DUTF-8%27%27control_v11p_sd21_hed.safetensors%3B+filename%3D%22control_v11p_sd21_hed.safetensors%22%3B&Expires=1694329435&Policy=eyJTdGF0ZW1lbnQiOlt7IkNvbmRpdGlvbiI6eyJEYXRlTGVzc1RoYW4iOnsiQVdTOkVwb2NoVGltZSI6MTY5NDMyOTQzNX19LCJSZXNvdXJjZSI6Imh0dHBzOi8vY2RuLWxmcy5odWdnaW5nZmFjZS5jby9yZXBvcy9lZC8zMC9lZDMwODU1ZDI3OTgxZmMwZmVlNGIwZGRiOTllM2M2NTU4ZDcyNTVhYWRkZGM2MzZhMDJmM2NkMmI0ZWRkMDE0L2MyZjdiMjhhM2JhNjJjMzcyYWQ4YTFiYWE4NzVkZGJlY2JkMGY5ZjI4Yjg5OWVjZDFjNmFkZDJjN2I3MWY3Y2Y%7EcmVzcG9uc2UtY29udGVudC1kaXNwb3NpdGlvbj0qIn1dfQ__&Signature=r5Hw2aAj3Z%7ESilLr8lzwFIVrIuPcQaeAYIA6lDDs0scA%7E8pJ-PNKApqU58iuXSHOHZ30Y09D4v9Wies9dgxaH6sQ%7EE7FJP1tubT0coawLrS7MbGGxu-pntdjn0EnIQg1AW5gYiQrjAAcZdrgABEGDb8fUDYzrexs1ejqbUtLPWyZjWVo1o%7EAfzlPqepkVm315F8dT1NR3vgVtWCCJS-WKaWfv8KQ8y7ESKJvsk29vIjBd8dOfZXOKyzSQ6rGXb3v7AcJhuavveop9jTMlqdVSDdbQlQgmPdjDuNdm94CF3tmjabguAHehyImKeupc%7ELC9CS23sDrVBZ6bFoI50R0Sg__&Key-Pair-Id=KVTP0A1DKRTAX\n",
      "Resolving cdn-lfs.huggingface.co (cdn-lfs.huggingface.co)... 18.164.116.66, 18.164.116.15, 18.164.116.106, ...\n",
      "Connecting to cdn-lfs.huggingface.co (cdn-lfs.huggingface.co)|18.164.116.66|:443... connected.\n",
      "HTTP request sent, awaiting response... 200 OK\n",
      "Length: 728494536 (695M) [binary/octet-stream]\n",
      "Saving to: ‘control_v11p_sd21_hed.safetensors’\n",
      "\n",
      "control_v11p_sd21_h 100%[===================>] 694.75M  95.1MB/s    in 7.3s    \n",
      "\n",
      "2023-09-07 07:04:02 (95.0 MB/s) - ‘control_v11p_sd21_hed.safetensors’ saved [728494536/728494536]\n",
      "\n"
     ]
    }
   ],
   "source": [
    "# HED\n",
    "%cd /notebooks/stable-diffusion-webui/models/ControlNet\n",
    "!wget https://huggingface.co/thibaud/controlnet-sd21/resolve/main/control_v11p_sd21_hed.safetensors"
   ]
  },
  {
   "cell_type": "code",
   "execution_count": 14,
   "id": "e9a49dca-c7ad-4505-80df-29ca25c2c0ca",
   "metadata": {
    "execution": {
     "iopub.execute_input": "2023-09-07T07:04:02.663567Z",
     "iopub.status.busy": "2023-09-07T07:04:02.663319Z",
     "iopub.status.idle": "2023-09-07T07:04:12.762737Z",
     "shell.execute_reply": "2023-09-07T07:04:12.762050Z",
     "shell.execute_reply.started": "2023-09-07T07:04:02.663539Z"
    }
   },
   "outputs": [
    {
     "name": "stdout",
     "output_type": "stream",
     "text": [
      "/storage/stable-diffusion/stable-diffusion-webui/models/ControlNet\n",
      "--2023-09-07 07:04:03--  https://huggingface.co/lllyasviel/ControlNet-v1-1/resolve/main/control_v11p_sd15_openpose.pth\n",
      "Resolving huggingface.co (huggingface.co)... 18.164.124.99, 18.164.124.47, 18.164.124.11, ...\n",
      "Connecting to huggingface.co (huggingface.co)|18.164.124.99|:443... connected.\n",
      "HTTP request sent, awaiting response... 302 Found\n",
      "Location: https://cdn-lfs.huggingface.co/repos/e7/4c/e74c9ddc88b5a293fa8aafeb615d6c61cb3aaa34dc7ce9e25100dfae2b09bf55/db97becd92cd19aff71352a60e93c2508decba3dee64f01f686727b9b406a9dd?response-content-disposition=attachment%3B+filename*%3DUTF-8%27%27control_v11p_sd15_openpose.pth%3B+filename%3D%22control_v11p_sd15_openpose.pth%22%3B&Expires=1694329000&Policy=eyJTdGF0ZW1lbnQiOlt7IkNvbmRpdGlvbiI6eyJEYXRlTGVzc1RoYW4iOnsiQVdTOkVwb2NoVGltZSI6MTY5NDMyOTAwMH19LCJSZXNvdXJjZSI6Imh0dHBzOi8vY2RuLWxmcy5odWdnaW5nZmFjZS5jby9yZXBvcy9lNy80Yy9lNzRjOWRkYzg4YjVhMjkzZmE4YWFmZWI2MTVkNmM2MWNiM2FhYTM0ZGM3Y2U5ZTI1MTAwZGZhZTJiMDliZjU1L2RiOTdiZWNkOTJjZDE5YWZmNzEzNTJhNjBlOTNjMjUwOGRlY2JhM2RlZTY0ZjAxZjY4NjcyN2I5YjQwNmE5ZGQ%7EcmVzcG9uc2UtY29udGVudC1kaXNwb3NpdGlvbj0qIn1dfQ__&Signature=uVfwkyu-Y07BdWCWSTzHWQUdGe-z8bpMjpe2CcAkcritAncwCMIhOZ4uh6kxU-SSV-vhon3lVnhYch5jg%7E9JJ4dcJbIwqZLjhNcqZegVNIhyjyzCP6EHnp3QpwE5e%7EZ5NTWGMjKrihnvqU7mDlGNSipOaCTeEVr4cxdHqFqac-dUM3TbL7WsovHzsQSVBZnQxIH5zCJ4Z2t07rHHujHnD2wI0yWyru2dWexI4q9wf%7EvIdncSIAH8HZ1%7EalAXwMrTUACFi7ZhTaQROp2odH44EDA-g3JIwJCZFLiqy7Q2yrH%7EonC64Ogke3BnyGxePfLGXjWeN0XnuvjeHNDwIyxvvg__&Key-Pair-Id=KVTP0A1DKRTAX [following]\n",
      "--2023-09-07 07:04:03--  https://cdn-lfs.huggingface.co/repos/e7/4c/e74c9ddc88b5a293fa8aafeb615d6c61cb3aaa34dc7ce9e25100dfae2b09bf55/db97becd92cd19aff71352a60e93c2508decba3dee64f01f686727b9b406a9dd?response-content-disposition=attachment%3B+filename*%3DUTF-8%27%27control_v11p_sd15_openpose.pth%3B+filename%3D%22control_v11p_sd15_openpose.pth%22%3B&Expires=1694329000&Policy=eyJTdGF0ZW1lbnQiOlt7IkNvbmRpdGlvbiI6eyJEYXRlTGVzc1RoYW4iOnsiQVdTOkVwb2NoVGltZSI6MTY5NDMyOTAwMH19LCJSZXNvdXJjZSI6Imh0dHBzOi8vY2RuLWxmcy5odWdnaW5nZmFjZS5jby9yZXBvcy9lNy80Yy9lNzRjOWRkYzg4YjVhMjkzZmE4YWFmZWI2MTVkNmM2MWNiM2FhYTM0ZGM3Y2U5ZTI1MTAwZGZhZTJiMDliZjU1L2RiOTdiZWNkOTJjZDE5YWZmNzEzNTJhNjBlOTNjMjUwOGRlY2JhM2RlZTY0ZjAxZjY4NjcyN2I5YjQwNmE5ZGQ%7EcmVzcG9uc2UtY29udGVudC1kaXNwb3NpdGlvbj0qIn1dfQ__&Signature=uVfwkyu-Y07BdWCWSTzHWQUdGe-z8bpMjpe2CcAkcritAncwCMIhOZ4uh6kxU-SSV-vhon3lVnhYch5jg%7E9JJ4dcJbIwqZLjhNcqZegVNIhyjyzCP6EHnp3QpwE5e%7EZ5NTWGMjKrihnvqU7mDlGNSipOaCTeEVr4cxdHqFqac-dUM3TbL7WsovHzsQSVBZnQxIH5zCJ4Z2t07rHHujHnD2wI0yWyru2dWexI4q9wf%7EvIdncSIAH8HZ1%7EalAXwMrTUACFi7ZhTaQROp2odH44EDA-g3JIwJCZFLiqy7Q2yrH%7EonC64Ogke3BnyGxePfLGXjWeN0XnuvjeHNDwIyxvvg__&Key-Pair-Id=KVTP0A1DKRTAX\n",
      "Resolving cdn-lfs.huggingface.co (cdn-lfs.huggingface.co)... 18.164.116.111, 18.164.116.66, 18.164.116.106, ...\n",
      "Connecting to cdn-lfs.huggingface.co (cdn-lfs.huggingface.co)|18.164.116.111|:443... connected.\n",
      "HTTP request sent, awaiting response... 200 OK\n",
      "Length: 1445235707 (1.3G) [binary/octet-stream]\n",
      "Saving to: ‘control_v11p_sd15_openpose.pth’\n",
      "\n",
      "control_v11p_sd15_o 100%[===================>]   1.35G   314MB/s    in 4.2s    \n",
      "\n",
      "2023-09-07 07:04:12 (326 MB/s) - ‘control_v11p_sd15_openpose.pth’ saved [1445235707/1445235707]\n",
      "\n"
     ]
    }
   ],
   "source": [
    "# OpenPose\n",
    "%cd /notebooks/stable-diffusion-webui/models/ControlNet\n",
    "!wget https://huggingface.co/lllyasviel/ControlNet-v1-1/resolve/main/control_v11p_sd15_openpose.pth"
   ]
  },
  {
   "cell_type": "code",
   "execution_count": 15,
   "id": "ce44c95a-7a66-413a-85d4-b68731f9dc95",
   "metadata": {
    "execution": {
     "iopub.execute_input": "2023-09-07T07:04:12.763916Z",
     "iopub.status.busy": "2023-09-07T07:04:12.763680Z",
     "iopub.status.idle": "2023-09-07T07:04:18.029715Z",
     "shell.execute_reply": "2023-09-07T07:04:18.028666Z",
     "shell.execute_reply.started": "2023-09-07T07:04:12.763888Z"
    }
   },
   "outputs": [
    {
     "name": "stdout",
     "output_type": "stream",
     "text": [
      "/storage/stable-diffusion/stable-diffusion-webui/models/ControlNet\n",
      "--2023-09-07 07:04:13--  https://huggingface.co/lllyasviel/ControlNet-v1-1/resolve/main/control_v11p_sd15_scribble.pth\n",
      "Resolving huggingface.co (huggingface.co)... 18.164.124.27, 18.164.124.11, 18.164.124.99, ...\n",
      "Connecting to huggingface.co (huggingface.co)|18.164.124.27|:443... connected.\n",
      "HTTP request sent, awaiting response... 302 Found\n",
      "Location: https://cdn-lfs.huggingface.co/repos/e7/4c/e74c9ddc88b5a293fa8aafeb615d6c61cb3aaa34dc7ce9e25100dfae2b09bf55/14d33e8bc14ba679595d976789e4eedc36a3d2d21866ab5896355a7e6677749f?response-content-disposition=attachment%3B+filename*%3DUTF-8%27%27control_v11p_sd15_scribble.pth%3B+filename%3D%22control_v11p_sd15_scribble.pth%22%3B&Expires=1694325612&Policy=eyJTdGF0ZW1lbnQiOlt7IkNvbmRpdGlvbiI6eyJEYXRlTGVzc1RoYW4iOnsiQVdTOkVwb2NoVGltZSI6MTY5NDMyNTYxMn19LCJSZXNvdXJjZSI6Imh0dHBzOi8vY2RuLWxmcy5odWdnaW5nZmFjZS5jby9yZXBvcy9lNy80Yy9lNzRjOWRkYzg4YjVhMjkzZmE4YWFmZWI2MTVkNmM2MWNiM2FhYTM0ZGM3Y2U5ZTI1MTAwZGZhZTJiMDliZjU1LzE0ZDMzZThiYzE0YmE2Nzk1OTVkOTc2Nzg5ZTRlZWRjMzZhM2QyZDIxODY2YWI1ODk2MzU1YTdlNjY3Nzc0OWY%7EcmVzcG9uc2UtY29udGVudC1kaXNwb3NpdGlvbj0qIn1dfQ__&Signature=VeBnTuQxAFrF2op7WOLYcAAZWIzlt08%7EygetgNQLanbuBoPnX7UZc%7EmFmyT98%7EEUv0S-gstgv5HxCjsJ82xoFI-mmPonnVbQv7DFFM6ri3813k1fkmiNdmTRKb37uv60NbJNNegGqmQOt4%7E90SCh%7EcFVoIF3QLUcV03u3RXKV3CKTSAR5%7EwvLrJg-yWEoUM1j6i8himFWhQYI69qqwpIjqikRDh6P0ilqzBSxCmnSK2Jcoa7BX4BsF4HLIk5rg7Roahe4pCCTvBLLaRsr%7E%7E2myFclcbIHi%7EaHo1sN1DA6tijx2KCszhvEoDpecuBot%7Em4wh-WP38HxkxKNCxALjIig__&Key-Pair-Id=KVTP0A1DKRTAX [following]\n",
      "--2023-09-07 07:04:13--  https://cdn-lfs.huggingface.co/repos/e7/4c/e74c9ddc88b5a293fa8aafeb615d6c61cb3aaa34dc7ce9e25100dfae2b09bf55/14d33e8bc14ba679595d976789e4eedc36a3d2d21866ab5896355a7e6677749f?response-content-disposition=attachment%3B+filename*%3DUTF-8%27%27control_v11p_sd15_scribble.pth%3B+filename%3D%22control_v11p_sd15_scribble.pth%22%3B&Expires=1694325612&Policy=eyJTdGF0ZW1lbnQiOlt7IkNvbmRpdGlvbiI6eyJEYXRlTGVzc1RoYW4iOnsiQVdTOkVwb2NoVGltZSI6MTY5NDMyNTYxMn19LCJSZXNvdXJjZSI6Imh0dHBzOi8vY2RuLWxmcy5odWdnaW5nZmFjZS5jby9yZXBvcy9lNy80Yy9lNzRjOWRkYzg4YjVhMjkzZmE4YWFmZWI2MTVkNmM2MWNiM2FhYTM0ZGM3Y2U5ZTI1MTAwZGZhZTJiMDliZjU1LzE0ZDMzZThiYzE0YmE2Nzk1OTVkOTc2Nzg5ZTRlZWRjMzZhM2QyZDIxODY2YWI1ODk2MzU1YTdlNjY3Nzc0OWY%7EcmVzcG9uc2UtY29udGVudC1kaXNwb3NpdGlvbj0qIn1dfQ__&Signature=VeBnTuQxAFrF2op7WOLYcAAZWIzlt08%7EygetgNQLanbuBoPnX7UZc%7EmFmyT98%7EEUv0S-gstgv5HxCjsJ82xoFI-mmPonnVbQv7DFFM6ri3813k1fkmiNdmTRKb37uv60NbJNNegGqmQOt4%7E90SCh%7EcFVoIF3QLUcV03u3RXKV3CKTSAR5%7EwvLrJg-yWEoUM1j6i8himFWhQYI69qqwpIjqikRDh6P0ilqzBSxCmnSK2Jcoa7BX4BsF4HLIk5rg7Roahe4pCCTvBLLaRsr%7E%7E2myFclcbIHi%7EaHo1sN1DA6tijx2KCszhvEoDpecuBot%7Em4wh-WP38HxkxKNCxALjIig__&Key-Pair-Id=KVTP0A1DKRTAX\n",
      "Resolving cdn-lfs.huggingface.co (cdn-lfs.huggingface.co)... 18.164.116.111, 18.164.116.15, 18.164.116.66, ...\n",
      "Connecting to cdn-lfs.huggingface.co (cdn-lfs.huggingface.co)|18.164.116.111|:443... connected.\n",
      "HTTP request sent, awaiting response... 200 OK\n",
      "Length: 1445235707 (1.3G) [binary/octet-stream]\n",
      "Saving to: ‘control_v11p_sd15_scribble.pth’\n",
      "\n",
      "control_v11p_sd15_s 100%[===================>]   1.35G   307MB/s    in 4.4s    \n",
      "\n",
      "2023-09-07 07:04:17 (312 MB/s) - ‘control_v11p_sd15_scribble.pth’ saved [1445235707/1445235707]\n",
      "\n"
     ]
    }
   ],
   "source": [
    "# Scribble\n",
    "%cd /notebooks/stable-diffusion-webui/models/ControlNet\n",
    "!wget https://huggingface.co/lllyasviel/ControlNet-v1-1/resolve/main/control_v11p_sd15_scribble.pth"
   ]
  }
 ],
 "metadata": {
  "kernelspec": {
   "display_name": "Python 3 (ipykernel)",
   "language": "python",
   "name": "python3"
  },
  "language_info": {
   "codemirror_mode": {
    "name": "ipython",
    "version": 3
   },
   "file_extension": ".py",
   "mimetype": "text/x-python",
   "name": "python",
   "nbconvert_exporter": "python",
   "pygments_lexer": "ipython3",
   "version": "3.9.16"
  }
 },
 "nbformat": 4,
 "nbformat_minor": 5
}
