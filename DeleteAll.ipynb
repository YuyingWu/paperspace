{
 "cells": [
  {
   "cell_type": "code",
   "execution_count": 1,
   "id": "b430f304-4470-4383-a06d-49912c8fbbfc",
   "metadata": {
    "execution": {
     "iopub.execute_input": "2023-10-04T08:19:26.165905Z",
     "iopub.status.busy": "2023-10-04T08:19:26.165448Z",
     "iopub.status.idle": "2023-10-04T08:19:26.190900Z",
     "shell.execute_reply": "2023-10-04T08:19:26.189731Z",
     "shell.execute_reply.started": "2023-10-04T08:19:26.165865Z"
    }
   },
   "outputs": [],
   "source": [
    "#Удаление ControlNet моделей\n",
    "import shutil\n",
    "import os\n",
    "shutil.rmtree('/notebooks/stable-diffusion-webui/models/ControlNet')\n",
    "os.mkdir('/notebooks/stable-diffusion-webui/models/ControlNet')"
   ]
  },
  {
   "cell_type": "code",
   "execution_count": 2,
   "id": "fe1ee04c-104f-41e4-a457-c90fd1a71478",
   "metadata": {
    "execution": {
     "iopub.execute_input": "2023-10-04T08:19:26.193411Z",
     "iopub.status.busy": "2023-10-04T08:19:26.193083Z",
     "iopub.status.idle": "2023-10-04T08:19:26.203164Z",
     "shell.execute_reply": "2023-10-04T08:19:26.202157Z",
     "shell.execute_reply.started": "2023-10-04T08:19:26.193379Z"
    }
   },
   "outputs": [],
   "source": [
    "#Удаление моделей\n",
    "import shutil\n",
    "import os\n",
    "shutil.rmtree('/notebooks/stable-diffusion-webui/models/Stable-diffusion')\n",
    "os.mkdir('/notebooks/stable-diffusion-webui/models/Stable-diffusion')"
   ]
  },
  {
   "cell_type": "code",
   "execution_count": 3,
   "id": "f630e4f1-f432-4d4a-b8ae-17660116c22d",
   "metadata": {
    "execution": {
     "iopub.execute_input": "2023-10-04T08:19:26.204718Z",
     "iopub.status.busy": "2023-10-04T08:19:26.204382Z",
     "iopub.status.idle": "2023-10-04T08:19:26.211685Z",
     "shell.execute_reply": "2023-10-04T08:19:26.210170Z",
     "shell.execute_reply.started": "2023-10-04T08:19:26.204675Z"
    }
   },
   "outputs": [],
   "source": [
    "#Удаление Lora\n",
    "import shutil\n",
    "import os\n",
    "shutil.rmtree('/notebooks/stable-diffusion-webui/models/Lora')\n",
    "os.mkdir('/notebooks/stable-diffusion-webui/models/Lora')"
   ]
  },
  {
   "cell_type": "code",
   "execution_count": 4,
   "id": "a634df65-3649-4b20-815d-cacb32d6f8fe",
   "metadata": {
    "execution": {
     "iopub.execute_input": "2023-10-04T08:19:26.214672Z",
     "iopub.status.busy": "2023-10-04T08:19:26.214286Z",
     "iopub.status.idle": "2023-10-04T08:19:26.224084Z",
     "shell.execute_reply": "2023-10-04T08:19:26.223051Z",
     "shell.execute_reply.started": "2023-10-04T08:19:26.214637Z"
    }
   },
   "outputs": [],
   "source": [
    "#Удаление VAE\n",
    "import shutil\n",
    "import os\n",
    "shutil.rmtree('/notebooks/stable-diffusion-webui/models/VAE')\n",
    "os.mkdir('/notebooks/stable-diffusion-webui/models/VAE')"
   ]
  },
  {
   "cell_type": "code",
   "execution_count": null,
   "id": "99856a8d-549f-4539-873f-e6a9a74cea59",
   "metadata": {},
   "outputs": [],
   "source": []
  }
 ],
 "metadata": {
  "kernelspec": {
   "display_name": "Python 3 (ipykernel)",
   "language": "python",
   "name": "python3"
  },
  "language_info": {
   "codemirror_mode": {
    "name": "ipython",
    "version": 3
   },
   "file_extension": ".py",
   "mimetype": "text/x-python",
   "name": "python",
   "nbconvert_exporter": "python",
   "pygments_lexer": "ipython3",
   "version": "3.9.16"
  }
 },
 "nbformat": 4,
 "nbformat_minor": 5
}
