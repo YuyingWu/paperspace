{
 "cells": [
  {
   "cell_type": "code",
   "execution_count": 5,
   "id": "7d926719-3082-4206-a74a-c80d96c22f8e",
   "metadata": {
    "execution": {
     "iopub.execute_input": "2023-10-04T09:04:59.201891Z",
     "iopub.status.busy": "2023-10-04T09:04:59.201456Z",
     "iopub.status.idle": "2023-10-04T09:05:00.058545Z",
     "shell.execute_reply": "2023-10-04T09:05:00.056830Z",
     "shell.execute_reply.started": "2023-10-04T09:04:59.201860Z"
    }
   },
   "outputs": [
    {
     "name": "stdout",
     "output_type": "stream",
     "text": [
      "du: cannot access '.[!.]*': No such file or directory\n",
      "95G\tstable-diffusion\n",
      "95G\ttotal\n"
     ]
    }
   ],
   "source": [
    "!cd /storage && du -sch .[!.]* * | sort -h"
   ]
  }
 ],
 "metadata": {
  "kernelspec": {
   "display_name": "Python 3 (ipykernel)",
   "language": "python",
   "name": "python3"
  },
  "language_info": {
   "codemirror_mode": {
    "name": "ipython",
    "version": 3
   },
   "file_extension": ".py",
   "mimetype": "text/x-python",
   "name": "python",
   "nbconvert_exporter": "python",
   "pygments_lexer": "ipython3",
   "version": "3.9.16"
  }
 },
 "nbformat": 4,
 "nbformat_minor": 5
}
