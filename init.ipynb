{
 "cells": [
  {
   "cell_type": "code",
   "execution_count": null,
   "id": "92b5927c-79f1-4442-8fb1-4043f68ef73c",
   "metadata": {},
   "outputs": [],
   "source": [
    "ssh-keygen -t rsa -C “your email address”"
   ]
  },
  {
   "cell_type": "code",
   "execution_count": 2,
   "id": "40a493cc-8e74-4eec-b53c-306d1ccb5d39",
   "metadata": {
    "execution": {
     "iopub.execute_input": "2023-10-04T08:39:30.703524Z",
     "iopub.status.busy": "2023-10-04T08:39:30.702620Z",
     "iopub.status.idle": "2023-10-04T08:39:31.191758Z",
     "shell.execute_reply": "2023-10-04T08:39:31.190577Z",
     "shell.execute_reply.started": "2023-10-04T08:39:30.703481Z"
    }
   },
   "outputs": [
    {
     "name": "stdout",
     "output_type": "stream",
     "text": [
      "ssh-rsa AAAAB3NzaC1yc2EAAAADAQABAAABgQDV94SaO+2cF6SNMCed1t8Wdvr5P+y+4v/Xmf1A3LSUzKNz92p8RP7o05ENiu8eEVCWU+GL/GTD4+aMj7SP6uinknhzLiM1/t2ijV+Ea0afPTMCd6xJ9+fYikeELyPkGM49aw/7tMmG/l5KwPDbLkdgvIfoyEJnKYjMSXbkOB/7cX6pWNL0wZfWKymE/fAYIPescg+1KwPLbkS1MzkGffCVwDCm8Ql4mCOL6YrTqiYLqquqW98I2ujQ8XVH10EWpb2xyym+vqKaPSKn1LXYkozbd/s8A1rVZL/0+AutxttlRo3YYndhkmq7y6+vOGIiz2QNBS++Vl8PU2UFHPb8Ssd/MOkPgKin0H25zHAaGidIOYUaKRp1uLIZgp8aw5PSbo4NrWAqNRuiHJCMQ5o2tOOuhOIG3P797QqHv8+TzMLDqc49f2MbzfckTFzT/Clwhhr+7zKrwrRQU5PNc78NA0YlLM2Wo4EEGGJEjbTnxMygsHsXHhge6NCgQ2Yri1aF6I8= wuyuying1128@gmail.com\n"
     ]
    }
   ],
   "source": [
    "!cat /root/.ssh/id_rsa.pub"
   ]
  },
  {
   "cell_type": "code",
   "execution_count": null,
   "id": "97a942e4-81e1-48f5-b928-c6f7a9351207",
   "metadata": {},
   "outputs": [],
   "source": [
    "!git clone git@github.com:YuyingWu/paperspace.git"
   ]
  }
 ],
 "metadata": {
  "kernelspec": {
   "display_name": "Python 3 (ipykernel)",
   "language": "python",
   "name": "python3"
  },
  "language_info": {
   "codemirror_mode": {
    "name": "ipython",
    "version": 3
   },
   "file_extension": ".py",
   "mimetype": "text/x-python",
   "name": "python",
   "nbconvert_exporter": "python",
   "pygments_lexer": "ipython3",
   "version": "3.9.16"
  }
 },
 "nbformat": 4,
 "nbformat_minor": 5
}
